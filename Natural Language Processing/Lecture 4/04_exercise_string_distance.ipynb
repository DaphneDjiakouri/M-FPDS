{
 "cells": [
  {
   "cell_type": "markdown",
   "metadata": {},
   "source": [
    "# String distance"
   ]
  },
  {
   "cell_type": "code",
   "execution_count": null,
   "metadata": {
    "ExecuteTime": {
     "end_time": "2022-03-02T16:10:04.124776Z",
     "start_time": "2022-03-02T16:10:02.492955Z"
    }
   },
   "outputs": [],
   "source": [
    "import nltk\n",
    "import numpy as np\n",
    "import pandas as pd"
   ]
  },
  {
   "cell_type": "code",
   "execution_count": null,
   "metadata": {
    "ExecuteTime": {
     "end_time": "2022-03-02T16:10:06.800324Z",
     "start_time": "2022-03-02T16:10:06.725481Z"
    }
   },
   "outputs": [],
   "source": [
    "words = nltk.corpus.words.words()"
   ]
  },
  {
   "cell_type": "code",
   "execution_count": null,
   "metadata": {
    "ExecuteTime": {
     "end_time": "2022-03-02T16:10:07.703412Z",
     "start_time": "2022-03-02T16:10:07.394191Z"
    }
   },
   "outputs": [],
   "source": [
    "pd.DataFrame(words).to_csv(\"words_nltk.csv\")"
   ]
  },
  {
   "cell_type": "markdown",
   "metadata": {},
   "source": [
    "## Assuming same cost for all edits"
   ]
  },
  {
   "cell_type": "code",
   "execution_count": null,
   "metadata": {
    "ExecuteTime": {
     "end_time": "2020-03-05T21:51:15.295513Z",
     "start_time": "2020-03-05T21:51:15.292067Z"
    }
   },
   "outputs": [],
   "source": [
    "def create_memoization_table(X,Y):\n",
    "    len_x = len(X)\n",
    "    len_y = len(Y)\n",
    "    D = np.zeros((len_x+1,len_y+1), dtype=np.int32)\n",
    "    \n",
    "    for i in range(len(X)+1):\n",
    "        for j in range(len(Y)+1):\n",
    "\n",
    "            if i == 0:\n",
    "                D[i][j] = j    \n",
    "\n",
    "            elif j == 0:\n",
    "                D[i][j] = i  \n",
    "\n",
    "            elif X[i-1] == Y[j-1]: \n",
    "                D[i][j] = D[i-1][j-1]\n",
    "\n",
    "            else:\n",
    "                D[i][j] = 1+min(D[i][j-1],      # Insert \n",
    "                                D[i-1][j],      # Remove \n",
    "                                D[i-1][j-1])    # Replace \n",
    "    return D"
   ]
  },
  {
   "cell_type": "code",
   "execution_count": null,
   "metadata": {
    "ExecuteTime": {
     "end_time": "2020-03-05T21:51:15.306055Z",
     "start_time": "2020-03-05T21:51:15.296900Z"
    }
   },
   "outputs": [],
   "source": [
    "x = \"EXPONENTIAL\"\n",
    "y = \"POLYNOMIAL\"\n",
    "D = create_memoization_table(x,y)\n",
    "D[-1,-1]"
   ]
  },
  {
   "cell_type": "code",
   "execution_count": null,
   "metadata": {
    "ExecuteTime": {
     "end_time": "2020-03-05T21:51:15.314112Z",
     "start_time": "2020-03-05T21:51:15.307689Z"
    }
   },
   "outputs": [],
   "source": [
    "x = \"Elliot\"\n",
    "y = \"Elia\"\n",
    "D = create_memoization_table(x,y)\n",
    "D[-1,-1]"
   ]
  },
  {
   "cell_type": "code",
   "execution_count": null,
   "metadata": {
    "ExecuteTime": {
     "end_time": "2020-03-05T21:51:15.321113Z",
     "start_time": "2020-03-05T21:51:15.315852Z"
    }
   },
   "outputs": [],
   "source": [
    "x = \"hi\"\n",
    "y = \"hill\"\n",
    "D = create_memoization_table(x,y)\n",
    "print(\"\\nThe distance between {} and {} is {}\".format(x,y,D[-1,-1]))"
   ]
  },
  {
   "cell_type": "markdown",
   "metadata": {},
   "source": [
    "##### Timing implementation"
   ]
  },
  {
   "cell_type": "code",
   "execution_count": null,
   "metadata": {
    "ExecuteTime": {
     "end_time": "2020-03-05T21:51:15.324736Z",
     "start_time": "2020-03-05T21:51:15.322924Z"
    }
   },
   "outputs": [],
   "source": [
    "x = \"EXPONENTIAL\"\n",
    "y = \"POLYNOMIAL\""
   ]
  },
  {
   "cell_type": "code",
   "execution_count": null,
   "metadata": {
    "ExecuteTime": {
     "end_time": "2020-03-05T21:51:15.328826Z",
     "start_time": "2020-03-05T21:51:15.326760Z"
    }
   },
   "outputs": [],
   "source": [
    "def edit_distance_fast(x,y):\n",
    "    D = create_memoization_table(x,y)\n",
    "    return D[-1,-1]"
   ]
  },
  {
   "cell_type": "code",
   "execution_count": null,
   "metadata": {
    "ExecuteTime": {
     "end_time": "2020-03-05T21:51:28.598021Z",
     "start_time": "2020-03-05T21:51:15.330383Z"
    },
    "scrolled": true
   },
   "outputs": [],
   "source": [
    "%%timeit\n",
    "edit_distance_fast(x,y)"
   ]
  },
  {
   "cell_type": "code",
   "execution_count": null,
   "metadata": {
    "ExecuteTime": {
     "end_time": "2020-03-05T21:51:34.514828Z",
     "start_time": "2020-03-05T21:51:28.599457Z"
    },
    "scrolled": false
   },
   "outputs": [],
   "source": [
    "%%timeit\n",
    "nltk.edit_distance(x,y)"
   ]
  },
  {
   "cell_type": "code",
   "execution_count": null,
   "metadata": {
    "ExecuteTime": {
     "end_time": "2020-03-05T21:51:34.519906Z",
     "start_time": "2020-03-05T21:51:34.516319Z"
    }
   },
   "outputs": [],
   "source": [
    "nltk.edit_distance(x,y) == edit_distance_fast(x,y)"
   ]
  },
  {
   "cell_type": "markdown",
   "metadata": {},
   "source": [
    "### Different costs per operation"
   ]
  },
  {
   "cell_type": "code",
   "execution_count": null,
   "metadata": {
    "ExecuteTime": {
     "end_time": "2020-03-05T21:51:34.525996Z",
     "start_time": "2020-03-05T21:51:34.521284Z"
    }
   },
   "outputs": [],
   "source": [
    "def memoization_table_weighted(X,Y):\n",
    "    len_x = len(X)\n",
    "    len_y = len(Y)\n",
    "    D = np.zeros((len_x + 1, len_y + 1), dtype=np.int32)\n",
    "    D[:,0] = range(len_x + 1)\n",
    "    D[0,:] = range(len_y + 1)\n",
    "\n",
    "    w_sub = 1\n",
    "    w_del = 1\n",
    "    w_ins = 1\n",
    "\n",
    "    for i in range(1, len_x + 1):\n",
    "        for j in range(1, len_y + 1):\n",
    "            del_char = D[i-1,j] + w_del\n",
    "            ins_char = D[i,j-1] + w_ins\n",
    "\n",
    "            if X[i-1] == Y[j-1]:\n",
    "                Z = 0\n",
    "            else:\n",
    "                Z = w_sub\n",
    "            sub_char = D[i-1,j-1] + Z\n",
    "\n",
    "            D[i,j] = min(del_char, ins_char, sub_char)\n",
    "\n",
    "    return D"
   ]
  },
  {
   "cell_type": "code",
   "execution_count": null,
   "metadata": {
    "ExecuteTime": {
     "end_time": "2020-03-05T21:51:34.532770Z",
     "start_time": "2020-03-05T21:51:34.527356Z"
    },
    "scrolled": false
   },
   "outputs": [],
   "source": [
    "x = \"Elliot\"\n",
    "y = \"Elia\"\n",
    "D = memoization_table_weighted(x, y)\n",
    "print(\"\\nThe distance between {} and {} is {}\".format(x,y,D[-1,-1]))"
   ]
  },
  {
   "cell_type": "markdown",
   "metadata": {},
   "source": [
    "# Speeding up code"
   ]
  },
  {
   "cell_type": "markdown",
   "metadata": {},
   "source": [
    "Simple example with cython"
   ]
  },
  {
   "cell_type": "code",
   "execution_count": null,
   "metadata": {
    "ExecuteTime": {
     "end_time": "2022-03-02T16:46:51.147704Z",
     "start_time": "2022-03-02T16:46:51.142428Z"
    }
   },
   "outputs": [],
   "source": [
    "%load_ext cython"
   ]
  },
  {
   "cell_type": "code",
   "execution_count": null,
   "metadata": {
    "ExecuteTime": {
     "end_time": "2022-03-02T16:46:52.956001Z",
     "start_time": "2022-03-02T16:46:52.951437Z"
    }
   },
   "outputs": [],
   "source": [
    "def fib(n):\n",
    "    a = 0.\n",
    "    b = 1.\n",
    "    for i in range(n):\n",
    "        a, b = a + b, a\n",
    "    return a"
   ]
  },
  {
   "cell_type": "code",
   "execution_count": null,
   "metadata": {
    "ExecuteTime": {
     "end_time": "2022-03-02T16:49:30.341679Z",
     "start_time": "2022-03-02T16:49:29.774615Z"
    }
   },
   "outputs": [],
   "source": [
    "%%cython --annotate\n",
    "def cy_fib(int n):\n",
    "    cdef int i\n",
    "    cdef float a=0.0, b=1.0\n",
    "    for i in range(n):\n",
    "        a, b = a + b, a\n",
    "    return a"
   ]
  },
  {
   "cell_type": "code",
   "execution_count": null,
   "metadata": {
    "ExecuteTime": {
     "end_time": "2022-03-02T16:49:54.233049Z",
     "start_time": "2022-03-02T16:49:54.226344Z"
    }
   },
   "outputs": [],
   "source": [
    "fib(10)"
   ]
  },
  {
   "cell_type": "code",
   "execution_count": null,
   "metadata": {
    "ExecuteTime": {
     "end_time": "2022-03-02T16:49:54.559814Z",
     "start_time": "2022-03-02T16:49:54.555571Z"
    }
   },
   "outputs": [],
   "source": [
    "cy_fib(10)"
   ]
  },
  {
   "cell_type": "code",
   "execution_count": null,
   "metadata": {
    "ExecuteTime": {
     "end_time": "2022-03-02T16:49:58.097896Z",
     "start_time": "2022-03-02T16:49:58.019500Z"
    }
   },
   "outputs": [],
   "source": [
    "import timeit\n",
    "\n",
    "n_times = 100000\n",
    "t_fib = timeit.timeit(\"fib(10)\", setup=\"from __main__ import fib\",number=n_times)\n",
    "t_cyfib = timeit.timeit(\"cy_fib(10)\", setup=\"from __main__ import cy_fib\",number=n_times)\n",
    "t_fib_unit = t_fib/n_times\n",
    "\n",
    "t_cyfib      = timeit.timeit(\"cy_fib(10)\", setup=\"from __main__ import cy_fib\",number=n_times)\n",
    "t_cyfib_unit = t_cyfib/n_times\n",
    "\n",
    "print(\" Python version took: {} sec\\n Cython version took: {} sec\\n Cython is {:.0f}x faster\"\\\n",
    "      .format(t_fib, t_cyfib, t_fib/t_cyfib))\n",
    "\n",
    "print(\"\\n Python version 1 run took: {} sec\\n Cython version 1 run took: {} sec\\n Cython is {:.0f}x faster\"\\\n",
    "      .format(t_fib_unit, t_cyfib_unit, t_fib_unit/t_cyfib_unit))"
   ]
  },
  {
   "cell_type": "markdown",
   "metadata": {},
   "source": [
    "### Speeding up edit distance\n",
    "\n"
   ]
  },
  {
   "cell_type": "markdown",
   "metadata": {},
   "source": [
    "##### Exercise fill in cy_create_memoization_table so that it returns the matrix filled to compute the edit distance"
   ]
  },
  {
   "cell_type": "code",
   "execution_count": null,
   "metadata": {
    "ExecuteTime": {
     "end_time": "2020-03-05T21:52:48.363858Z",
     "start_time": "2020-03-05T21:52:46.379226Z"
    },
    "scrolled": false
   },
   "outputs": [],
   "source": [
    "%%cython --annotate\n",
    "\n",
    "import numpy as np\n",
    "\n",
    "def cy_create_memoization_table(str X, str Y):\n",
    "    cdef int i, j, del_char, ins_char, sub_char, Z\n",
    "    cdef int len_x = len(X)\n",
    "    cdef int len_y = len(Y)\n",
    "    cdef int [:, :] D =  np.zeros((len_x + 1, len_y + 1), dtype=np.int32)\n",
    "\n",
    "    for i in range(len_x+1):\n",
    "        D[i,0] = i\n",
    "\n",
    "    for j in range(len_y+1):\n",
    "        D[0,j] = j\n",
    "\n",
    "    for i in range(1, len_x + 1):\n",
    "        for j in range(1, len_y + 1):\n",
    "            del_char = D[i-1,j] + 1\n",
    "            ins_char = D[i,j-1] + 1\n",
    "\n",
    "            if X[i-1] == Y[j-1]:\n",
    "                Z = 0\n",
    "            else:\n",
    "                Z = 1\n",
    "            sub_char = D[i-1,j-1] + Z\n",
    "\n",
    "            D[i,j] = min(del_char, ins_char, sub_char)\n",
    "    \n",
    "    return D"
   ]
  },
  {
   "cell_type": "code",
   "execution_count": null,
   "metadata": {},
   "outputs": [],
   "source": [
    "D1 = create_memoization_table(x,y)\n",
    "D1"
   ]
  },
  {
   "cell_type": "code",
   "execution_count": null,
   "metadata": {
    "scrolled": true
   },
   "outputs": [],
   "source": [
    "D2 = cy_create_memoization_table(x,y)\n",
    "D2 = np.asarray(D2)"
   ]
  },
  {
   "cell_type": "code",
   "execution_count": null,
   "metadata": {},
   "outputs": [],
   "source": [
    "D2"
   ]
  },
  {
   "cell_type": "code",
   "execution_count": null,
   "metadata": {},
   "outputs": [],
   "source": [
    "t_create_memoization_table = timeit.timeit(\"x='exponential'; y='polynomial'; create_memoization_table(x,y)\",\n",
    "                                           setup=\"import numpy as np; from __main__ import create_memoization_table\",\n",
    "                                           number=5000)"
   ]
  },
  {
   "cell_type": "code",
   "execution_count": null,
   "metadata": {},
   "outputs": [],
   "source": [
    "t_cy_create_memoization_table = timeit.timeit(\"x='exponential'; y='polynomial'; cy_create_memoization_table(x,y)\",\n",
    "                                              setup=\"from __main__ import cy_create_memoization_table\",\n",
    "                                              number=5000)"
   ]
  },
  {
   "cell_type": "code",
   "execution_count": null,
   "metadata": {},
   "outputs": [],
   "source": [
    "t_nltk = timeit.timeit(\"x='exponential'; y='polynomial'; nltk.edit_distance(x,y)\",\n",
    "                        setup=\"import nltk \",\n",
    "                        number=5000)"
   ]
  },
  {
   "cell_type": "code",
   "execution_count": null,
   "metadata": {
    "scrolled": true
   },
   "outputs": [],
   "source": [
    "print(\"\"\" \n",
    "      Python version took: {} sec\n",
    "      Cython version took: {} sec\n",
    "      nltk   version took: {} sec\n",
    "      Cython is {:.0f}x faster than python\n",
    "      Cython is {:.0f}x faster than nltk\n",
    "      \"\"\"\\\n",
    "      .format(t_create_memoization_table, \n",
    "              t_cy_create_memoization_table,\n",
    "              t_nltk, \n",
    "              t_create_memoization_table/t_cy_create_memoization_table,\n",
    "              t_nltk/t_cy_create_memoization_table))\n"
   ]
  },
  {
   "cell_type": "code",
   "execution_count": null,
   "metadata": {},
   "outputs": [],
   "source": [
    "def edit_distance(x,y):\n",
    "    return cy_create_memoization_table(x,y)[-1,-1]"
   ]
  },
  {
   "cell_type": "markdown",
   "metadata": {},
   "source": [
    "### Return to the experiment where we computed closest word\n",
    "\n",
    "\n",
    "##### Exercise: Return the last component of the DynamicProgramming matrix containing the edit distance"
   ]
  },
  {
   "cell_type": "code",
   "execution_count": null,
   "metadata": {},
   "outputs": [],
   "source": [
    "import editdistance"
   ]
  },
  {
   "cell_type": "code",
   "execution_count": null,
   "metadata": {},
   "outputs": [],
   "source": [
    "words = nltk.corpus.words.words()\n",
    "len(words)"
   ]
  },
  {
   "cell_type": "code",
   "execution_count": null,
   "metadata": {},
   "outputs": [],
   "source": [
    "%%time\n",
    "mistake = \"drauing\" \n",
    "distances = []\n",
    "for word in words:\n",
    "    ed = nltk.edit_distance(mistake, word)\n",
    "    distances.append(ed)\n",
    "    \n",
    "print(\"\\nthe closest word is\", words[np.argmin(distances)])"
   ]
  },
  {
   "cell_type": "code",
   "execution_count": null,
   "metadata": {},
   "outputs": [],
   "source": [
    "%%time\n",
    "mistake = \"drauing\" \n",
    "cy_distances = []\n",
    "for word in words:\n",
    "    ed = editdistance.eval(mistake, word)\n",
    "    cy_distances.append(ed)\n",
    "    \n",
    "print(\"\\nthe closest word is\", words[np.argmin(cy_distances)])"
   ]
  },
  {
   "cell_type": "code",
   "execution_count": null,
   "metadata": {},
   "outputs": [],
   "source": [
    "%%time\n",
    "mistake = \"drauing\" \n",
    "cy_distances = []\n",
    "for word in words:\n",
    "    ed = edit_distance(mistake, word)\n",
    "    cy_distances.append(ed)\n",
    "    \n",
    "print(\"\\nthe closest word is\", words[np.argmin(cy_distances)])"
   ]
  },
  {
   "cell_type": "code",
   "execution_count": null,
   "metadata": {
    "scrolled": true
   },
   "outputs": [],
   "source": [
    "distances == cy_distances"
   ]
  },
  {
   "cell_type": "code",
   "execution_count": null,
   "metadata": {},
   "outputs": [],
   "source": [
    "editdistance.eval(\"hi\", \"hi\"), edit_distance(\"hi\",\"hi\")"
   ]
  },
  {
   "cell_type": "code",
   "execution_count": null,
   "metadata": {},
   "outputs": [],
   "source": [
    "editdistance.eval(\"hi\", \"ho\"), edit_distance(\"hi\",\"ho\")"
   ]
  },
  {
   "cell_type": "markdown",
   "metadata": {},
   "source": [
    "##### Interesting material on string similarities\n",
    "\n",
    "Approximate string matching:\n",
    "\n",
    "https://medium.com/@wolfgarbe/fast-approximate-string-matching-with-large-edit-distances-in-big-data-2015-9174a0968c0b\n",
    "\n",
    "Levenshtein distance using a trie:\n",
    "\n",
    "http://stevehanov.ca/blog/?id=114\n",
    "\n",
    "About jaccard distance:\n",
    "\n",
    "https://python.gotrained.com/nltk-edit-distance-jaccard-distance/"
   ]
  }
 ],
 "metadata": {
  "kernelspec": {
   "display_name": "Python [conda env:ub_nlp]",
   "language": "python",
   "name": "conda-env-ub_nlp-py"
  },
  "language_info": {
   "codemirror_mode": {
    "name": "ipython",
    "version": 3
   },
   "file_extension": ".py",
   "mimetype": "text/x-python",
   "name": "python",
   "nbconvert_exporter": "python",
   "pygments_lexer": "ipython3",
   "version": "3.10.9"
  },
  "toc": {
   "base_numbering": 1,
   "nav_menu": {},
   "number_sections": true,
   "sideBar": true,
   "skip_h1_title": false,
   "title_cell": "Table of Contents",
   "title_sidebar": "Contents",
   "toc_cell": false,
   "toc_position": {},
   "toc_section_display": true,
   "toc_window_display": false
  },
  "varInspector": {
   "cols": {
    "lenName": 16,
    "lenType": 16,
    "lenVar": 40
   },
   "kernels_config": {
    "python": {
     "delete_cmd_postfix": "",
     "delete_cmd_prefix": "del ",
     "library": "var_list.py",
     "varRefreshCmd": "print(var_dic_list())"
    },
    "r": {
     "delete_cmd_postfix": ") ",
     "delete_cmd_prefix": "rm(",
     "library": "var_list.r",
     "varRefreshCmd": "cat(var_dic_list()) "
    }
   },
   "types_to_exclude": [
    "module",
    "function",
    "builtin_function_or_method",
    "instance",
    "_Feature"
   ],
   "window_display": false
  }
 },
 "nbformat": 4,
 "nbformat_minor": 1
}
