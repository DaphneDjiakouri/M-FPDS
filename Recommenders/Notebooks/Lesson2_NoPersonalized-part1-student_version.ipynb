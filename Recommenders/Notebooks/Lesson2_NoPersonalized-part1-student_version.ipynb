{
 "cells": [
  {
   "cell_type": "markdown",
   "metadata": {},
   "source": [
    "<small><i>Updated February 2023 - This notebook was created by [Santi Seguí](https://ssegui.github.io/). </i></small>"
   ]
  },
  {
   "cell_type": "code",
   "execution_count": 1,
   "metadata": {},
   "outputs": [
    {
     "name": "stderr",
     "output_type": "stream",
     "text": [
      "C:\\Users\\35796\\AppData\\Local\\Temp\\ipykernel_9736\\3777615979.py:1: DeprecationWarning: Importing display from IPython.core.display is deprecated since IPython 7.14, please import from IPython display\n",
      "  from IPython.core.display import display, HTML\n"
     ]
    },
    {
     "data": {
      "text/html": [
       "<style>.container { width:100% !important; }</style>"
      ],
      "text/plain": [
       "<IPython.core.display.HTML object>"
      ]
     },
     "metadata": {},
     "output_type": "display_data"
    }
   ],
   "source": [
    "from IPython.core.display import display, HTML\n",
    "display(HTML(\"<style>.container { width:100% !important; }</style>\"))"
   ]
  },
  {
   "cell_type": "markdown",
   "metadata": {},
   "source": [
    "## Let's create a Non-Personalised Recommender using MovieLens Dataset\n",
    "We will work with the well known MovieLens dataset (http://grouplens.org/datasets/movielens/). This dataset was initially constructed to support participants in the Netflix Prize. Today, we can find several versions of this dataset with different amout of data, from 100k samples version to 20m sample version. Although performance on bigger dataset is expected to be better, we will work with the smallest dataset: MovieLens 1M Dataset (ml-1m.zip). Working with this lite version has the benefit of less computational costs\n",
    "\n",
    "With a unix machine the dataset can be downloaded with the following code:\n"
   ]
  },
  {
   "cell_type": "markdown",
   "metadata": {},
   "source": [
    "### We will use the Movielens 1 million dataset. We download it and uncompress the file we need."
   ]
  },
  {
   "cell_type": "code",
   "execution_count": 3,
   "metadata": {},
   "outputs": [
    {
     "name": "stderr",
     "output_type": "stream",
     "text": [
      "'wget' is not recognized as an internal or external command,\n",
      "operable program or batch file.\n",
      "'unzip' is not recognized as an internal or external command,\n",
      "operable program or batch file.\n"
     ]
    }
   ],
   "source": [
    "!wget http://files.grouplens.org/datasets/movielens/ml-1m.zip \n",
    "!unzip ml-1m.zip -d \"data/\""
   ]
  },
  {
   "cell_type": "markdown",
   "metadata": {},
   "source": [
    "If you are working with a windows machine, please go to the website and download the ml-1m version and extract it to the subdirectory named \"data/ml-1m/\"\n",
    "\n",
    "Once you have downloaded and unzipped the file into a directory, you can create a DataFrame with the following code:"
   ]
  },
  {
   "cell_type": "code",
   "execution_count": 6,
   "metadata": {},
   "outputs": [
    {
     "data": {
      "application/javascript": "IPython.notebook.set_autosave_interval(150000)"
     },
     "metadata": {},
     "output_type": "display_data"
    },
    {
     "name": "stdout",
     "output_type": "stream",
     "text": [
      "Autosaving every 150 seconds\n"
     ]
    },
    {
     "name": "stderr",
     "output_type": "stream",
     "text": [
      "C:\\Users\\35796\\AppData\\Local\\Temp\\ipykernel_9736\\3299491286.py:11: ParserWarning: Falling back to the 'python' engine because the 'c' engine does not support regex separators (separators > 1 char and different from '\\s+' are interpreted as regex); you can avoid this warning by specifying engine='python'.\n",
      "  users = pd.read_csv('./data/ml-1m/users.dat', sep='::', names=u_cols)\n",
      "C:\\Users\\35796\\AppData\\Local\\Temp\\ipykernel_9736\\3299491286.py:14: ParserWarning: Falling back to the 'python' engine because the 'c' engine does not support regex separators (separators > 1 char and different from '\\s+' are interpreted as regex); you can avoid this warning by specifying engine='python'.\n",
      "  ratings = pd.read_csv('./data/ml-1m/ratings.dat', sep='::', names=r_cols)\n",
      "C:\\Users\\35796\\AppData\\Local\\Temp\\ipykernel_9736\\3299491286.py:19: ParserWarning: Falling back to the 'python' engine because the 'c' engine does not support regex separators (separators > 1 char and different from '\\s+' are interpreted as regex); you can avoid this warning by specifying engine='python'.\n",
      "  movies = pd.read_csv('./data/ml-1m/movies.dat', sep='::', names=m_cols, usecols=range(3), encoding='latin-1')\n"
     ]
    },
    {
     "name": "stdout",
     "output_type": "stream",
     "text": [
      "La BD has 1000209 ratings\n",
      "La BD has  6040  users\n",
      "La BD has  3706  movies\n"
     ]
    },
    {
     "data": {
      "text/html": [
       "<div>\n",
       "<style scoped>\n",
       "    .dataframe tbody tr th:only-of-type {\n",
       "        vertical-align: middle;\n",
       "    }\n",
       "\n",
       "    .dataframe tbody tr th {\n",
       "        vertical-align: top;\n",
       "    }\n",
       "\n",
       "    .dataframe thead th {\n",
       "        text-align: right;\n",
       "    }\n",
       "</style>\n",
       "<table border=\"1\" class=\"dataframe\">\n",
       "  <thead>\n",
       "    <tr style=\"text-align: right;\">\n",
       "      <th></th>\n",
       "      <th>user_id</th>\n",
       "      <th>title</th>\n",
       "      <th>movie_id</th>\n",
       "      <th>rating</th>\n",
       "      <th>release_date</th>\n",
       "      <th>sex</th>\n",
       "      <th>age</th>\n",
       "    </tr>\n",
       "  </thead>\n",
       "  <tbody>\n",
       "    <tr>\n",
       "      <th>0</th>\n",
       "      <td>1</td>\n",
       "      <td>One Flew Over the Cuckoo's Nest (1975)</td>\n",
       "      <td>1193</td>\n",
       "      <td>5</td>\n",
       "      <td>Drama</td>\n",
       "      <td>F</td>\n",
       "      <td>1</td>\n",
       "    </tr>\n",
       "    <tr>\n",
       "      <th>1</th>\n",
       "      <td>2</td>\n",
       "      <td>One Flew Over the Cuckoo's Nest (1975)</td>\n",
       "      <td>1193</td>\n",
       "      <td>5</td>\n",
       "      <td>Drama</td>\n",
       "      <td>M</td>\n",
       "      <td>56</td>\n",
       "    </tr>\n",
       "    <tr>\n",
       "      <th>2</th>\n",
       "      <td>12</td>\n",
       "      <td>One Flew Over the Cuckoo's Nest (1975)</td>\n",
       "      <td>1193</td>\n",
       "      <td>4</td>\n",
       "      <td>Drama</td>\n",
       "      <td>M</td>\n",
       "      <td>25</td>\n",
       "    </tr>\n",
       "    <tr>\n",
       "      <th>3</th>\n",
       "      <td>15</td>\n",
       "      <td>One Flew Over the Cuckoo's Nest (1975)</td>\n",
       "      <td>1193</td>\n",
       "      <td>4</td>\n",
       "      <td>Drama</td>\n",
       "      <td>M</td>\n",
       "      <td>25</td>\n",
       "    </tr>\n",
       "    <tr>\n",
       "      <th>4</th>\n",
       "      <td>17</td>\n",
       "      <td>One Flew Over the Cuckoo's Nest (1975)</td>\n",
       "      <td>1193</td>\n",
       "      <td>5</td>\n",
       "      <td>Drama</td>\n",
       "      <td>M</td>\n",
       "      <td>50</td>\n",
       "    </tr>\n",
       "  </tbody>\n",
       "</table>\n",
       "</div>"
      ],
      "text/plain": [
       "   user_id                                   title  movie_id  rating  \\\n",
       "0        1  One Flew Over the Cuckoo's Nest (1975)      1193       5   \n",
       "1        2  One Flew Over the Cuckoo's Nest (1975)      1193       5   \n",
       "2       12  One Flew Over the Cuckoo's Nest (1975)      1193       4   \n",
       "3       15  One Flew Over the Cuckoo's Nest (1975)      1193       4   \n",
       "4       17  One Flew Over the Cuckoo's Nest (1975)      1193       5   \n",
       "\n",
       "  release_date sex  age  \n",
       "0        Drama   F    1  \n",
       "1        Drama   M   56  \n",
       "2        Drama   M   25  \n",
       "3        Drama   M   25  \n",
       "4        Drama   M   50  "
      ]
     },
     "execution_count": 6,
     "metadata": {},
     "output_type": "execute_result"
    }
   ],
   "source": [
    "#NETFLIX REAL 50.000.000 usuaris and 100.000 items\n",
    "%autosave 150\n",
    "%matplotlib inline\n",
    "import pandas as pd\n",
    "import numpy as np\n",
    "import math\n",
    "import matplotlib.pylab as plt\n",
    "\n",
    "# Load Data set\n",
    "u_cols = ['user_id', 'sex', 'age', 'occupation', 'zip_code']\n",
    "users = pd.read_csv('./data/ml-1m/users.dat', sep='::', names=u_cols)\n",
    "\n",
    "r_cols = ['user_id', 'movie_id', 'rating', 'unix_timestamp']\n",
    "ratings = pd.read_csv('./data/ml-1m/ratings.dat', sep='::', names=r_cols)\n",
    "\n",
    "# the movies file contains columns indicating the movie's genres\n",
    "# let's only load the first three columns of the file with usecols\n",
    "m_cols = ['movie_id', 'title', 'release_date',]\n",
    "movies = pd.read_csv('./data/ml-1m/movies.dat', sep='::', names=m_cols, usecols=range(3), encoding='latin-1')\n",
    "\n",
    "# Construcció del DataFrame\n",
    "data = pd.merge(pd.merge(ratings, users), movies)\n",
    "data = data[['user_id','title', 'movie_id','rating','release_date','sex','age']]\n",
    "\n",
    "\n",
    "n_users = data.user_id.nunique()\n",
    "n_items = data.movie_id.nunique()\n",
    "print(\"La BD has \"+ str(data.shape[0]) +\" ratings\")\n",
    "print(\"La BD has \", n_users,\" users\")\n",
    "print(\"La BD has \", n_items, \" movies\")\n",
    "data.head()\n"
   ]
  },
  {
   "cell_type": "markdown",
   "metadata": {},
   "source": [
    "If you explore the dataset in detail, you will see that it consists of:\n",
    "\n",
    "1.000.209 ratings from 6040 users of 3706 movies. Ratings are from 1 to 5.\n",
    "Simple demographic info for the users (age, gender, occupation, zip)"
   ]
  },
  {
   "cell_type": "code",
   "execution_count": 7,
   "metadata": {},
   "outputs": [
    {
     "name": "stdout",
     "output_type": "stream",
     "text": [
      "Average interactions per user 165.60\n",
      "Average interactions per item 269.89\n",
      "Sparsity 95.53 %\n"
     ]
    }
   ],
   "source": [
    "print (\"Average interactions per user {:.2f}\".format(data.shape[0]/n_users))\n",
    "print (\"Average interactions per item {:.2f}\".format(data.shape[0]/n_items))\n",
    "\n",
    "print (\"Sparsity {:.2f} %\".format((1- data.shape[0]/(n_items*n_users))*100))\n"
   ]
  },
  {
   "cell_type": "markdown",
   "metadata": {},
   "source": [
    "### Ranking by polularity\n",
    "We compute the item popularity as the number of interaction in each column\n"
   ]
  },
  {
   "cell_type": "code",
   "execution_count": 8,
   "metadata": {},
   "outputs": [
    {
     "data": {
      "image/png": "[encoded data removed]",
      "text/plain": [
       "<Figure size 640x480 with 1 Axes>"
      ]
     },
     "metadata": {},
     "output_type": "display_data"
    }
   ],
   "source": [
    "mean_score = data.groupby(['movie_id'])[['rating','movie_id']].agg({'rating':'mean',\n",
    "                                                              'movie_id':'count'}).rename(columns = {'rating': 'mean_rating','movie_id':'num_ratings'})\n",
    "\n",
    "item_popularity = mean_score.sort_values(by='num_ratings',ascending=True)['num_ratings'].values\n",
    "\n",
    "plt.plot(item_popularity,'gx')\n",
    "plt.show()"
   ]
  },
  {
   "cell_type": "code",
   "execution_count": 9,
   "metadata": {},
   "outputs": [
    {
     "name": "stdout",
     "output_type": "stream",
     "text": [
      "Average per-item interactions over the whole dataset 269.89\n",
      "Average per-item interactions for the top 10% popular items 1199.74\n",
      "Average per-item interactions for the least 10% popular items 2.85\n",
      "Average per-item interactions for the median 10% popular items 123.66\n"
     ]
    }
   ],
   "source": [
    "ten_percent = int(n_items/10)\n",
    "\n",
    "print(\"Average per-item interactions over the whole dataset {:.2f}\".\n",
    "      format(item_popularity.mean()))\n",
    "\n",
    "print(\"Average per-item interactions for the top 10% popular items {:.2f}\".\n",
    "      format(item_popularity[-ten_percent:].mean()))\n",
    "\n",
    "print(\"Average per-item interactions for the least 10% popular items {:.2f}\".\n",
    "      format(item_popularity[:ten_percent].mean()))\n",
    "\n",
    "print(\"Average per-item interactions for the median 10% popular items {:.2f}\".\n",
    "      format(item_popularity[int(n_items*0.45):int(n_items*0.55)].mean()))"
   ]
  },
  {
   "cell_type": "markdown",
   "metadata": {},
   "source": [
    "## We compute the user activity (profile length) as the number of interaction in each row"
   ]
  },
  {
   "cell_type": "code",
   "execution_count": 10,
   "metadata": {},
   "outputs": [
    {
     "data": {
      "image/png": "[encoded data removed]",
      "text/plain": [
       "<Figure size 640x480 with 1 Axes>"
      ]
     },
     "metadata": {},
     "output_type": "display_data"
    }
   ],
   "source": [
    "user_activity = data[['user_id','rating']].groupby(['user_id']).count()\n",
    "user_activity = np.sort(user_activity.rating.values)\n",
    "\n",
    "plt.plot(user_activity, 'ro')\n",
    "plt.ylabel('Num Interactions ')\n",
    "plt.xlabel('Sorted User')\n",
    "plt.show()"
   ]
  },
  {
   "cell_type": "markdown",
   "metadata": {},
   "source": [
    "## In order to create a Recommender we have to define:\n",
    "* A splitting of the data\n",
    "* An evaluation metric\n",
    "* A function to evaluate for each user"
   ]
  },
  {
   "cell_type": "markdown",
   "metadata": {},
   "source": [
    "## The splitting of the data is very important to ensure your algorithm is evaluated in a realistic scenario by using test it has never seen. \n",
    "We create two splits:\n",
    "* Train\n",
    "* Test"
   ]
  },
  {
   "cell_type": "code",
   "execution_count": 11,
   "metadata": {},
   "outputs": [],
   "source": [
    "from sklearn.model_selection import train_test_split\n",
    "\n",
    "train, test = train_test_split(data, test_size=0.2, random_state=7)"
   ]
  },
  {
   "cell_type": "markdown",
   "metadata": {},
   "source": [
    "## Evaluation metric\n",
    "We call items in the test set 'relevant'\n"
   ]
  },
  {
   "cell_type": "code",
   "execution_count": 12,
   "metadata": {},
   "outputs": [
    {
     "data": {
      "text/plain": [
       "array([2294, 1035,  919, 1907, 2028,  914,  531,  720,  260, 1270, 1207,\n",
       "       2018, 1028], dtype=int64)"
      ]
     },
     "execution_count": 12,
     "metadata": {},
     "output_type": "execute_result"
    }
   ],
   "source": [
    "# These are the relevat items for one user\n",
    "\n",
    "user_id = 1\n",
    "relevant_items = test[test.user_id==user_id].movie_id.values\n",
    "relevant_items"
   ]
  },
  {
   "cell_type": "code",
   "execution_count": 13,
   "metadata": {},
   "outputs": [
    {
     "data": {
      "text/plain": [
       "array([ 241, 2028,  114,  857, 1823])"
      ]
     },
     "execution_count": 13,
     "metadata": {},
     "output_type": "execute_result"
    }
   ],
   "source": [
    "# let's imagin our recommender sytes recommend the following item\n",
    "recommended_items = np.array([241, 2028, 114, 857, 1823])\n",
    "recommended_items"
   ]
  },
  {
   "cell_type": "code",
   "execution_count": 14,
   "metadata": {},
   "outputs": [
    {
     "data": {
      "text/plain": [
       "array([False,  True, False, False, False])"
      ]
     },
     "execution_count": 14,
     "metadata": {},
     "output_type": "execute_result"
    }
   ],
   "source": [
    "is_relevant = np.in1d(recommended_items, relevant_items, assume_unique=True)\n",
    "is_relevant"
   ]
  },
  {
   "cell_type": "markdown",
   "metadata": {},
   "source": [
    "## We can use several metrics. \n",
    "These are some of the most classical ones:\n",
    "* Precision\n",
    "* Recall\n",
    "* Average Precison\n"
   ]
  },
  {
   "cell_type": "markdown",
   "metadata": {},
   "source": [
    "## Precision: how many of the recommended items are relevant"
   ]
  },
  {
   "cell_type": "code",
   "execution_count": 15,
   "metadata": {},
   "outputs": [],
   "source": [
    "def precision(recommended_items, relevant_items):\n",
    "    \n",
    "    is_relevant = np.in1d(recommended_items, relevant_items, assume_unique=True)\n",
    "    \n",
    "    precision_score = np.sum(is_relevant, dtype=np.float32) / len(is_relevant)\n",
    "    \n",
    "    return precision_score"
   ]
  },
  {
   "cell_type": "markdown",
   "metadata": {},
   "source": [
    "## Recall: how many of the relevant items I was able to recommend"
   ]
  },
  {
   "cell_type": "code",
   "execution_count": 16,
   "metadata": {},
   "outputs": [],
   "source": [
    "def recall(recommended_items, relevant_items):\n",
    "    \n",
    "    is_relevant = np.in1d(recommended_items, relevant_items, assume_unique=True)\n",
    "    \n",
    "    recall_score = np.sum(is_relevant, dtype=np.float32) / relevant_items.shape[0]\n",
    "    \n",
    "    return recall_score"
   ]
  },
  {
   "cell_type": "markdown",
   "metadata": {},
   "source": [
    "## Average Precision\n",
    "this one is more commonly used"
   ]
  },
  {
   "cell_type": "code",
   "execution_count": 17,
   "metadata": {},
   "outputs": [],
   "source": [
    "def AP(recommended_items, relevant_items):\n",
    "   \n",
    "    is_relevant = np.in1d(recommended_items, relevant_items, assume_unique=True)\n",
    "    \n",
    "    # Cumulative sum: precision at 1, at 2, at 3 ...\n",
    "    p_at_k = is_relevant * np.cumsum(is_relevant, dtype=np.float32) / (1 + np.arange(is_relevant.shape[0]))\n",
    "    \n",
    "    ap_score = np.sum(p_at_k) / np.min([relevant_items.shape[0], is_relevant.shape[0]])\n",
    "\n",
    "    return ap_score"
   ]
  },
  {
   "cell_type": "markdown",
   "metadata": {},
   "source": [
    "## Now that we have the data, we can build our first recommender. We need two things:\n",
    "* a'fit' function to train our model\n",
    "* a 'recommend' function that uses our model to recommend"
   ]
  },
  {
   "cell_type": "markdown",
   "metadata": {},
   "source": [
    "## Let's start with a random recommender\n"
   ]
  },
  {
   "cell_type": "code",
   "execution_count": 18,
   "metadata": {},
   "outputs": [],
   "source": [
    "class RandomRecommender():\n",
    "\n",
    "    def fit(self, train):\n",
    "        \n",
    "        self.items = train.title.unique()\n",
    "    \n",
    "    def recommend(self, user_id, at=5):\n",
    "    \n",
    "        recommended_items = np.random.choice(self.items, at)\n",
    "        return recommended_items"
   ]
  },
  {
   "cell_type": "code",
   "execution_count": 19,
   "metadata": {},
   "outputs": [
    {
     "name": "stdout",
     "output_type": "stream",
     "text": [
      "['Billy Madison (1995)' 'Brenda Starr (1989)'\n",
      " 'Operation Dumbo Drop (1995)' 'Prom Night (1980)'\n",
      " 'To Catch a Thief (1955)']\n",
      "[\"Billy's Holiday (1995)\" 'Cry, the Beloved Country (1995)'\n",
      " 'Invasion of the Body Snatchers (1956)' 'Buffalo 66 (1998)'\n",
      " 'Skulls, The (2000)']\n",
      "['Misérables, Les (1995)' 'Fallen (1998)' 'Hamlet (1996)'\n",
      " 'Police Academy (1984)' \"She's Gotta Have It (1986)\"]\n",
      "['Nothing to Lose (1994)' 'Touch of Evil (1958)' \"Doug's 1st Movie (1999)\"\n",
      " 'One Night Stand (1997)' 'Shattered Image (1998)']\n",
      "[\"Kid in King Arthur's Court, A (1995)\" 'Ride with the Devil (1999)'\n",
      " 'My Favorite Season (1993)' \"She's Gotta Have It (1986)\"\n",
      " 'Runaway Train (1985)']\n",
      "[\"Mummy's Tomb, The (1942)\" 'Major Payne (1994)'\n",
      " 'Godzilla 2000 (Gojira ni-sen mireniamu) (1999)' 'Bio-Dome (1996)'\n",
      " '8 Heads in a Duffel Bag (1997)']\n",
      "['Secret Agent, The (1996)' 'Two Thousand Maniacs! (1964)'\n",
      " 'Once Upon a Time in America (1984)'\n",
      " 'Mr. Death: The Rise and Fall of Fred A. Leuchter Jr. (1999)'\n",
      " 'Iron Eagle IV (1995)']\n",
      "['Galaxy Quest (1999)' 'Full Metal Jacket (1987)'\n",
      " 'Three Musketeers, The (1993)' 'Cat Ballou (1965)'\n",
      " 'James and the Giant Peach (1996)']\n",
      "['Hideous Sun Demon, The (1959)' 'Honeymoon in Vegas (1992)'\n",
      " 'Major Payne (1994)' 'Caddyshack (1980)' 'Paper Chase, The (1973)']\n",
      "['Polish Wedding (1998)' 'Notorious (1946)' 'Places in the Heart (1984)'\n",
      " 'Liar Liar (1997)' 'Not One Less (Yi ge dou bu neng shao) (1999)']\n"
     ]
    }
   ],
   "source": [
    "randomRecommender = RandomRecommender()\n",
    "randomRecommender.fit(train)\n",
    "\n",
    "for user_id in range(10):\n",
    "    print(randomRecommender.recommend(user_id, at=5))"
   ]
  },
  {
   "cell_type": "markdown",
   "metadata": {},
   "source": [
    "## Put all together in an evaluation function and let's test it!\n"
   ]
  },
  {
   "cell_type": "code",
   "execution_count": 20,
   "metadata": {},
   "outputs": [],
   "source": [
    "# We pass as paramether the recommender class\n",
    "\n",
    "def evaluate_algorithm(test, recommender_object, at=5):\n",
    "    \n",
    "    cumulative_precision = 0.0\n",
    "    cumulative_recall = 0.0\n",
    "    cumulative_AP = 0.0\n",
    "    num_eval = 0\n",
    "\n",
    "    for user_id in test.user_id.unique():\n",
    "\n",
    "        relevant_items = test[test.user_id==user_id].title.values\n",
    "    \n",
    "        if len(relevant_items)>0:\n",
    "            \n",
    "            recommended_items = recommender_object.recommend(user_id, at=at)\n",
    "            num_eval+=1\n",
    "\n",
    "            cumulative_precision += precision(recommended_items, relevant_items)\n",
    "            cumulative_recall += recall(recommended_items, relevant_items)\n",
    "            cumulative_AP += AP(recommended_items, relevant_items)\n",
    "            \n",
    "    cumulative_precision /= num_eval\n",
    "    cumulative_recall /= num_eval\n",
    "    MAP = cumulative_AP / num_eval\n",
    "    \n",
    "    print(\"Recommender results are: Precision = {:.4f}, Recall = {:.4f}, MAP = {:.4f}\".format(\n",
    "        cumulative_precision, cumulative_recall, MAP)) "
   ]
  },
  {
   "cell_type": "code",
   "execution_count": 21,
   "metadata": {},
   "outputs": [
    {
     "name": "stdout",
     "output_type": "stream",
     "text": [
      "Recommender results are: Precision = 0.0088, Recall = 0.0014, MAP = 0.0042\n"
     ]
    }
   ],
   "source": [
    "evaluate_algorithm(test, randomRecommender)"
   ]
  },
  {
   "cell_type": "markdown",
   "metadata": {},
   "source": [
    "### Everything works but for sure it can be improved.."
   ]
  },
  {
   "cell_type": "markdown",
   "metadata": {},
   "source": [
    "## Let's build a TOP POPULAR RECOMMENDER\n",
    "\n",
    "We recommend to all users the most popular items, that is those with the highest number of interactions\n",
    "In this case our model is the item popularity\n"
   ]
  },
  {
   "cell_type": "code",
   "execution_count": 40,
   "metadata": {},
   "outputs": [],
   "source": [
    "class TopPopRecommender(object):\n",
    "\n",
    "    def fit(self, train):\n",
    "        item_popularity = train[['title','rating']].groupby(by='title').count()\n",
    "        self.popular_items = item_popularity.sort_values(by= 'rating', ascending=False).index\n",
    "    \n",
    "    \n",
    "    def recommend(self, user_id, at=5):\n",
    "        return self.popular_items[0:at]\n",
    "    "
   ]
  },
  {
   "cell_type": "code",
   "execution_count": 41,
   "metadata": {},
   "outputs": [],
   "source": [
    "topPopRecommender = TopPopRecommender()\n",
    "topPopRecommender.fit(train)"
   ]
  },
  {
   "cell_type": "code",
   "execution_count": 42,
   "metadata": {},
   "outputs": [
    {
     "name": "stdout",
     "output_type": "stream",
     "text": [
      "Index(['American Beauty (1999)',\n",
      "       'Star Wars: Episode V - The Empire Strikes Back (1980)',\n",
      "       'Star Wars: Episode IV - A New Hope (1977)',\n",
      "       'Star Wars: Episode VI - Return of the Jedi (1983)',\n",
      "       'Jurassic Park (1993)'],\n",
      "      dtype='object', name='title')\n",
      "Index(['American Beauty (1999)',\n",
      "       'Star Wars: Episode V - The Empire Strikes Back (1980)',\n",
      "       'Star Wars: Episode IV - A New Hope (1977)',\n",
      "       'Star Wars: Episode VI - Return of the Jedi (1983)',\n",
      "       'Jurassic Park (1993)'],\n",
      "      dtype='object', name='title')\n",
      "Index(['American Beauty (1999)',\n",
      "       'Star Wars: Episode V - The Empire Strikes Back (1980)',\n",
      "       'Star Wars: Episode IV - A New Hope (1977)',\n",
      "       'Star Wars: Episode VI - Return of the Jedi (1983)',\n",
      "       'Jurassic Park (1993)'],\n",
      "      dtype='object', name='title')\n",
      "Index(['American Beauty (1999)',\n",
      "       'Star Wars: Episode V - The Empire Strikes Back (1980)',\n",
      "       'Star Wars: Episode IV - A New Hope (1977)',\n",
      "       'Star Wars: Episode VI - Return of the Jedi (1983)',\n",
      "       'Jurassic Park (1993)'],\n",
      "      dtype='object', name='title')\n",
      "Index(['American Beauty (1999)',\n",
      "       'Star Wars: Episode V - The Empire Strikes Back (1980)',\n",
      "       'Star Wars: Episode IV - A New Hope (1977)',\n",
      "       'Star Wars: Episode VI - Return of the Jedi (1983)',\n",
      "       'Jurassic Park (1993)'],\n",
      "      dtype='object', name='title')\n",
      "Index(['American Beauty (1999)',\n",
      "       'Star Wars: Episode V - The Empire Strikes Back (1980)',\n",
      "       'Star Wars: Episode IV - A New Hope (1977)',\n",
      "       'Star Wars: Episode VI - Return of the Jedi (1983)',\n",
      "       'Jurassic Park (1993)'],\n",
      "      dtype='object', name='title')\n",
      "Index(['American Beauty (1999)',\n",
      "       'Star Wars: Episode V - The Empire Strikes Back (1980)',\n",
      "       'Star Wars: Episode IV - A New Hope (1977)',\n",
      "       'Star Wars: Episode VI - Return of the Jedi (1983)',\n",
      "       'Jurassic Park (1993)'],\n",
      "      dtype='object', name='title')\n",
      "Index(['American Beauty (1999)',\n",
      "       'Star Wars: Episode V - The Empire Strikes Back (1980)',\n",
      "       'Star Wars: Episode IV - A New Hope (1977)',\n",
      "       'Star Wars: Episode VI - Return of the Jedi (1983)',\n",
      "       'Jurassic Park (1993)'],\n",
      "      dtype='object', name='title')\n",
      "Index(['American Beauty (1999)',\n",
      "       'Star Wars: Episode V - The Empire Strikes Back (1980)',\n",
      "       'Star Wars: Episode IV - A New Hope (1977)',\n",
      "       'Star Wars: Episode VI - Return of the Jedi (1983)',\n",
      "       'Jurassic Park (1993)'],\n",
      "      dtype='object', name='title')\n",
      "Index(['American Beauty (1999)',\n",
      "       'Star Wars: Episode V - The Empire Strikes Back (1980)',\n",
      "       'Star Wars: Episode IV - A New Hope (1977)',\n",
      "       'Star Wars: Episode VI - Return of the Jedi (1983)',\n",
      "       'Jurassic Park (1993)'],\n",
      "      dtype='object', name='title')\n"
     ]
    }
   ],
   "source": [
    "for user_id in range(10):\n",
    "    print(topPopRecommender.recommend(user_id, at=5))"
   ]
  },
  {
   "cell_type": "code",
   "execution_count": 25,
   "metadata": {},
   "outputs": [
    {
     "name": "stdout",
     "output_type": "stream",
     "text": [
      "Recommender results are: Precision = 0.0000, Recall = 0.0000, MAP = 0.0000\n"
     ]
    }
   ],
   "source": [
    "evaluate_algorithm(test, topPopRecommender, at=5)"
   ]
  },
  {
   "cell_type": "markdown",
   "metadata": {},
   "source": [
    "## What if we only recommend unseen items?"
   ]
  },
  {
   "cell_type": "code",
   "execution_count": 52,
   "metadata": {},
   "outputs": [],
   "source": [
    "class TopPopRecommender():\n",
    "\n",
    "    def fit(self, train):\n",
    "        self.train = train \n",
    "        item_popularity = train[['title','rating']].groupby(by='title').count()\n",
    "        self.popular_items = item_popularity.sort_values(by= 'rating', ascending=False).index\n",
    "        \n",
    "    def recommend(self, user_id, at=5, remove_seen = True):\n",
    "        if remove_seen == True:\n",
    "            seen_movies = self.train[self.train.user_id == user_id].title.values\n",
    "            unseen_movies_mask = np.in1d(self.popular_items, seen_movies, invert=True)\n",
    "            unseen_items = self.popular_items[unseen_movies_mask]\n",
    "            return unseen_items[0:at]\n",
    "        else:\n",
    "            return self.popular_items[0:at]\n"
   ]
  },
  {
   "cell_type": "code",
   "execution_count": 53,
   "metadata": {},
   "outputs": [
    {
     "name": "stdout",
     "output_type": "stream",
     "text": [
      "Index(['American Beauty (1999)',\n",
      "       'Star Wars: Episode V - The Empire Strikes Back (1980)',\n",
      "       'Star Wars: Episode IV - A New Hope (1977)',\n",
      "       'Star Wars: Episode VI - Return of the Jedi (1983)',\n",
      "       'Jurassic Park (1993)'],\n",
      "      dtype='object', name='title')\n",
      "Index(['American Beauty (1999)',\n",
      "       'Star Wars: Episode V - The Empire Strikes Back (1980)',\n",
      "       'Star Wars: Episode IV - A New Hope (1977)',\n",
      "       'Star Wars: Episode VI - Return of the Jedi (1983)',\n",
      "       'Jurassic Park (1993)'],\n",
      "      dtype='object', name='title')\n",
      "Index(['Star Wars: Episode IV - A New Hope (1977)', 'Matrix, The (1999)',\n",
      "       'Back to the Future (1985)', 'Men in Black (1997)', 'Fargo (1996)'],\n",
      "      dtype='object', name='title')\n",
      "Index(['Star Wars: Episode IV - A New Hope (1977)',\n",
      "       'Saving Private Ryan (1998)', 'Terminator 2: Judgment Day (1991)',\n",
      "       'Matrix, The (1999)', 'Fargo (1996)'],\n",
      "      dtype='object', name='title')\n",
      "Index(['American Beauty (1999)', 'Jurassic Park (1993)',\n",
      "       'Terminator 2: Judgment Day (1991)', 'Matrix, The (1999)',\n",
      "       'Back to the Future (1985)'],\n",
      "      dtype='object', name='title')\n"
     ]
    }
   ],
   "source": [
    "topPopRecommender_removeSeen = TopPopRecommender()\n",
    "topPopRecommender_removeSeen.fit(train)\n",
    "\n",
    "for user_id in range(5):\n",
    "    print(topPopRecommender_removeSeen.recommend(user_id, at=5))"
   ]
  },
  {
   "cell_type": "code",
   "execution_count": 54,
   "metadata": {},
   "outputs": [
    {
     "name": "stdout",
     "output_type": "stream",
     "text": [
      "Recommender results are: Precision = 0.2088, Recall = 0.0410, MAP = 0.1499\n"
     ]
    }
   ],
   "source": [
    "evaluate_algorithm(test, topPopRecommender_removeSeen)"
   ]
  },
  {
   "cell_type": "markdown",
   "metadata": {},
   "source": [
    "##  Let's build a HIGHEST RATED RECOMMENDER\n",
    "We recommend to all users the items with the highest mean rating.\n",
    "In this case our model is the item mean rating"
   ]
  },
  {
   "cell_type": "code",
   "execution_count": 29,
   "metadata": {},
   "outputs": [
    {
     "name": "stdout",
     "output_type": "stream",
     "text": [
      "The global average is 3.58\n"
     ]
    }
   ],
   "source": [
    "globalAverage = train.rating.mean()\n",
    "print(\"The global average is {:.2f}\".format(globalAverage))"
   ]
  },
  {
   "cell_type": "code",
   "execution_count": 30,
   "metadata": {},
   "outputs": [
    {
     "data": {
      "text/plain": [
       "[<matplotlib.lines.Line2D at 0x22021c14f40>]"
      ]
     },
     "execution_count": 30,
     "metadata": {},
     "output_type": "execute_result"
    },
    {
     "data": {
      "image/png": "[encoded data removed]",
      "text/plain": [
       "<Figure size 640x480 with 1 Axes>"
      ]
     },
     "metadata": {},
     "output_type": "display_data"
    }
   ],
   "source": [
    "mean_item_rating = train[['movie_id','rating']].groupby(by ='movie_id').mean().rating.values\n",
    "plt.plot(np.sort(mean_item_rating),'gx')"
   ]
  },
  {
   "cell_type": "code",
   "execution_count": 56,
   "metadata": {},
   "outputs": [
    {
     "data": {
      "text/html": [
       "<div>\n",
       "<style scoped>\n",
       "    .dataframe tbody tr th:only-of-type {\n",
       "        vertical-align: middle;\n",
       "    }\n",
       "\n",
       "    .dataframe tbody tr th {\n",
       "        vertical-align: top;\n",
       "    }\n",
       "\n",
       "    .dataframe thead th {\n",
       "        text-align: right;\n",
       "    }\n",
       "</style>\n",
       "<table border=\"1\" class=\"dataframe\">\n",
       "  <thead>\n",
       "    <tr style=\"text-align: right;\">\n",
       "      <th></th>\n",
       "      <th>rating</th>\n",
       "    </tr>\n",
       "    <tr>\n",
       "      <th>title</th>\n",
       "      <th></th>\n",
       "    </tr>\n",
       "  </thead>\n",
       "  <tbody>\n",
       "    <tr>\n",
       "      <th>Smashing Time (1967)</th>\n",
       "      <td>5.0</td>\n",
       "    </tr>\n",
       "    <tr>\n",
       "      <th>Lured (1947)</th>\n",
       "      <td>5.0</td>\n",
       "    </tr>\n",
       "    <tr>\n",
       "      <th>Bittersweet Motel (2000)</th>\n",
       "      <td>5.0</td>\n",
       "    </tr>\n",
       "    <tr>\n",
       "      <th>Schlafes Bruder (Brother of Sleep) (1995)</th>\n",
       "      <td>5.0</td>\n",
       "    </tr>\n",
       "    <tr>\n",
       "      <th>Song of Freedom (1936)</th>\n",
       "      <td>5.0</td>\n",
       "    </tr>\n",
       "    <tr>\n",
       "      <th>...</th>\n",
       "      <td>...</td>\n",
       "    </tr>\n",
       "    <tr>\n",
       "      <th>McCullochs, The (1975)</th>\n",
       "      <td>1.0</td>\n",
       "    </tr>\n",
       "    <tr>\n",
       "      <th>Santa with Muscles (1996)</th>\n",
       "      <td>1.0</td>\n",
       "    </tr>\n",
       "    <tr>\n",
       "      <th>Silence of the Palace, The (Saimt el Qusur) (1994)</th>\n",
       "      <td>1.0</td>\n",
       "    </tr>\n",
       "    <tr>\n",
       "      <th>Bloody Child, The (1996)</th>\n",
       "      <td>1.0</td>\n",
       "    </tr>\n",
       "    <tr>\n",
       "      <th>White Boys (1999)</th>\n",
       "      <td>1.0</td>\n",
       "    </tr>\n",
       "  </tbody>\n",
       "</table>\n",
       "<p>3680 rows × 1 columns</p>\n",
       "</div>"
      ],
      "text/plain": [
       "                                                    rating\n",
       "title                                                     \n",
       "Smashing Time (1967)                                   5.0\n",
       "Lured (1947)                                           5.0\n",
       "Bittersweet Motel (2000)                               5.0\n",
       "Schlafes Bruder (Brother of Sleep) (1995)              5.0\n",
       "Song of Freedom (1936)                                 5.0\n",
       "...                                                    ...\n",
       "McCullochs, The (1975)                                 1.0\n",
       "Santa with Muscles (1996)                              1.0\n",
       "Silence of the Palace, The (Saimt el Qusur) (1994)     1.0\n",
       "Bloody Child, The (1996)                               1.0\n",
       "White Boys (1999)                                      1.0\n",
       "\n",
       "[3680 rows x 1 columns]"
      ]
     },
     "execution_count": 56,
     "metadata": {},
     "output_type": "execute_result"
    }
   ],
   "source": [
    "train[['title','rating']].groupby(by='title').mean().sort_values(by= 'rating', ascending=False)"
   ]
  },
  {
   "cell_type": "code",
   "execution_count": 57,
   "metadata": {},
   "outputs": [],
   "source": [
    "class HighestRatedRecommender():\n",
    "\n",
    "     def fit(self, train):\n",
    "        self.train = train \n",
    "        item_popularity = train[['title','rating']].groupby(by='title').mean()\n",
    "        self.popular_items = item_popularity.sort_values(by= 'rating', ascending=False).index\n",
    "        \n",
    "     def recommend(self, user_id, at=5, remove_seen = True):\n",
    "        if remove_seen == True:\n",
    "            seen_movies = self.train[self.train.user_id == user_id].title.values\n",
    "            unseen_movies_mask = np.in1d(self.popular_items, seen_movies, invert=True)\n",
    "            unseen_items = self.popular_items[unseen_movies_mask]\n",
    "            return unseen_items[0:at]\n",
    "        else:\n",
    "            return self.popular_items[0:at]"
   ]
  },
  {
   "cell_type": "code",
   "execution_count": 58,
   "metadata": {},
   "outputs": [
    {
     "name": "stdout",
     "output_type": "stream",
     "text": [
      "Index(['Smashing Time (1967)', 'Lured (1947)', 'Bittersweet Motel (2000)',\n",
      "       'Schlafes Bruder (Brother of Sleep) (1995)', 'Song of Freedom (1936)'],\n",
      "      dtype='object', name='title')\n",
      "Index(['Smashing Time (1967)', 'Lured (1947)', 'Bittersweet Motel (2000)',\n",
      "       'Schlafes Bruder (Brother of Sleep) (1995)', 'Song of Freedom (1936)'],\n",
      "      dtype='object', name='title')\n",
      "Index(['Smashing Time (1967)', 'Lured (1947)', 'Bittersweet Motel (2000)',\n",
      "       'Schlafes Bruder (Brother of Sleep) (1995)', 'Song of Freedom (1936)'],\n",
      "      dtype='object', name='title')\n",
      "Index(['Smashing Time (1967)', 'Lured (1947)', 'Bittersweet Motel (2000)',\n",
      "       'Schlafes Bruder (Brother of Sleep) (1995)', 'Song of Freedom (1936)'],\n",
      "      dtype='object', name='title')\n",
      "Index(['Smashing Time (1967)', 'Lured (1947)', 'Bittersweet Motel (2000)',\n",
      "       'Schlafes Bruder (Brother of Sleep) (1995)', 'Song of Freedom (1936)'],\n",
      "      dtype='object', name='title')\n",
      "Recommender results are: Precision = 0.0000, Recall = 0.0000, MAP = 0.0000\n"
     ]
    }
   ],
   "source": [
    "highestScoreRecommender_removeSeen = HighestRatedRecommender()\n",
    "highestScoreRecommender_removeSeen.fit(train)\n",
    "\n",
    "for user_id in range(5):\n",
    "    print(highestScoreRecommender_removeSeen.recommend(user_id, at=5))\n",
    "    \n",
    "evaluate_algorithm(test, highestScoreRecommender_removeSeen)"
   ]
  },
  {
   "cell_type": "markdown",
   "metadata": {},
   "source": [
    "## Does it work? Any idea to improve it?\n",
    "* HINT 1: we should penalize those items that has been rated by only few users\n",
    "* HINT 2: Each user has different mean rating.. perhaps, we should remove user_bias"
   ]
  },
  {
   "cell_type": "code",
   "execution_count": 65,
   "metadata": {},
   "outputs": [
    {
     "data": {
      "text/plain": [
       "title\n",
       "Neon Bible, The (1995)                                          4.256165\n",
       "Little Indian, Big City (Un indien dans la ville) (1994)        4.256165\n",
       "Nueba Yol (1995)                                                4.256165\n",
       "White Boys (1999)                                               4.256165\n",
       "Mutters Courage (1995)                                          4.256165\n",
       "                                                                ...     \n",
       "Saving Private Ryan (1998)                                   9243.016729\n",
       "Star Wars: Episode VI - Return of the Jedi (1983)            9265.015512\n",
       "Star Wars: Episode IV - A New Hope (1977)                   10457.015151\n",
       "Star Wars: Episode V - The Empire Strikes Back (1980)       10459.014661\n",
       "American Beauty (1999)                                      12031.012778\n",
       "Length: 3680, dtype: float64"
      ]
     },
     "execution_count": 65,
     "metadata": {},
     "output_type": "execute_result"
    }
   ],
   "source": [
    "# big number of k very concernative \n",
    "k=10\n",
    "df = train.groupby(['title'])[['title','rating']].agg({'rating': 'mean', 'title' : 'count'}).rename(columns = {'rating': 'mean_rating', 'title' : 'count'})\n",
    "df = df['mean_rating']*df['count'] + train.rating.mean()*k/(df['count']+k)\n",
    "df.sort_values()"
   ]
  },
  {
   "cell_type": "code",
   "execution_count": 30,
   "metadata": {},
   "outputs": [],
   "source": [
    "## YOUR IMPROVED MODEL HERE\n",
    "class HighestRatedRecommender():\n",
    "\n",
    "     def fit(self, train, k=10):\n",
    "        self.train = train \n",
    "        item_popularity = train[['title','rating']].groupby(by='title').mean()\n",
    "        self.popular_items = item_popularity.sort_values(by= 'rating', ascending=False).index\n",
    "        \n",
    "     def recommend(self, user_id, at=5, remove_seen = True):\n",
    "        if remove_seen == True:\n",
    "            seen_movies = self.train[self.train.user_id == user_id].title.values\n",
    "            unseen_movies_mask = np.in1d(self.popular_items, seen_movies, invert=True)\n",
    "            unseen_items = self.popular_items[unseen_movies_mask]\n",
    "            return unseen_items[0:at]\n",
    "        else:\n",
    "            return self.popular_items[0:at]"
   ]
  },
  {
   "cell_type": "markdown",
   "metadata": {},
   "source": [
    "## Let's change the meaning of relevant!\n",
    "A relevant item should be something with high score"
   ]
  },
  {
   "cell_type": "code",
   "execution_count": 31,
   "metadata": {},
   "outputs": [],
   "source": [
    "# We pass as paramether the recommender class\n",
    "\n",
    "def evaluate_algorithm_top(test, recommender_object, at=5, thr_relevant = 4):\n",
    "    \n",
    "    cumulative_precision = 0.0\n",
    "    cumulative_recall = 0.0\n",
    "    cumulative_AP = 0.0\n",
    "    \n",
    "    num_eval = 0\n",
    "\n",
    "\n",
    "    for user_id in test.user_id.unique():\n",
    "\n",
    "        relevant_items = test[(test.user_id==user_id )&( test.rating>=thr_relevant)].title.values\n",
    "        \n",
    "        if len(relevant_items)>0:\n",
    "            \n",
    "            recommended_items = recommender_object.recommend(user_id, at=at)\n",
    "            num_eval+=1\n",
    "\n",
    "            cumulative_precision += precision(recommended_items, relevant_items)\n",
    "            cumulative_recall += recall(recommended_items, relevant_items)\n",
    "            cumulative_AP += AP(recommended_items, relevant_items)\n",
    "            \n",
    "    cumulative_precision /= num_eval\n",
    "    cumulative_recall /= num_eval\n",
    "    MAP = cumulative_AP / num_eval\n",
    "    \n",
    "    print(\"Recommender results are: Precision = {:.4f}, Recall = {:.4f}, MAP = {:.4f}\".format(\n",
    "        cumulative_precision, cumulative_recall, MAP)) "
   ]
  },
  {
   "cell_type": "code",
   "execution_count": 32,
   "metadata": {},
   "outputs": [],
   "source": [
    "## EVALUTE YOUR MODELS WITH THIS NEW STRATEGY"
   ]
  },
  {
   "cell_type": "markdown",
   "metadata": {},
   "source": [
    "## Conclusions\n",
    " * Why is Highest score is performing worse than TopPop even if we are taking into account more information about the interaction?\n",
    "\n",
    "\n",
    "Sometimes ratings are not really more informative than interactions. The community has been moving away from explicit ratings for a decade now, preferring implicit interactions that are easier to collect and more reliable.\n",
    "Generally speaking, \"more information\" is not necessarily better if noisy or hard to model."
   ]
  },
  {
   "cell_type": "code",
   "execution_count": null,
   "metadata": {},
   "outputs": [],
   "source": []
  }
 ],
 "metadata": {
  "kernelspec": {
   "display_name": "Python 3 (ipykernel)",
   "language": "python",
   "name": "python3"
  },
  "language_info": {
   "codemirror_mode": {
    "name": "ipython",
    "version": 3
   },
   "file_extension": ".py",
   "mimetype": "text/x-python",
   "name": "python",
   "nbconvert_exporter": "python",
   "pygments_lexer": "ipython3",
   "version": "3.10.5"
  }
 },
 "nbformat": 4,
 "nbformat_minor": 4
}
