{
 "cells": [
  {
   "cell_type": "markdown",
   "metadata": {},
   "source": [
    "# String distances\n",
    "\n"
   ]
  },
  {
   "cell_type": "code",
   "execution_count": null,
   "metadata": {
    "ExecuteTime": {
     "end_time": "2022-03-09T16:17:44.336997Z",
     "start_time": "2022-03-09T16:17:44.334382Z"
    }
   },
   "outputs": [],
   "source": [
    "import nltk\n",
    "import numpy as np\n",
    "import pandas as pd\n",
    "import editdistance"
   ]
  },
  {
   "cell_type": "code",
   "execution_count": null,
   "metadata": {
    "ExecuteTime": {
     "end_time": "2022-03-09T16:17:44.553640Z",
     "start_time": "2022-03-09T16:17:44.478647Z"
    }
   },
   "outputs": [],
   "source": [
    "words = nltk.corpus.words.words()"
   ]
  },
  {
   "cell_type": "code",
   "execution_count": null,
   "metadata": {
    "ExecuteTime": {
     "end_time": "2022-03-09T16:17:48.265936Z",
     "start_time": "2022-03-09T16:17:47.938877Z"
    }
   },
   "outputs": [],
   "source": [
    "pd.DataFrame(words).to_csv(\"words_nltk.csv\")"
   ]
  },
  {
   "cell_type": "markdown",
   "metadata": {},
   "source": [
    "## BK tree\n",
    "\n",
    "### How to create a BK-tree\n",
    "\n",
    "- take any word from your set and use it in as your root node. Add word to the tree based on their distance to the root.\n",
    "\n",
    "- A subtree within the tree will be a node and all its downstream nodes and weights. We can represent this as a pair storing:\n",
    "    - `(node: str, subtree_of_node: Dict[int, Tuple(str, ... )])`. \n"
   ]
  },
  {
   "cell_type": "markdown",
   "metadata": {},
   "source": [
    "\n",
    "### Example\n",
    "\n",
    "- Let us consider we started a tree with the word set [**book**, **books**, **cake**] then my tree would look like this if I started by making the word **book**:\n",
    "\n",
    "```\n",
    "       1 \n",
    "book ----- books\n",
    "    |\n",
    "    | 4\n",
    "    ----cake\n",
    "```\n",
    "\n",
    "We can represent this tree in memory as a pair \n",
    "`(Node, Subtree below Node)`. That is:\n",
    "\n",
    "```\n",
    "('book', {1: ('books', {}), 4: ('cake', {})})\n",
    "```\n",
    "\n",
    "\n",
    "- Add **boo**. Now we want to add the word **boo** which is at distace 1 from book. Notice though that there is already **book** at distance 1. The BK tree has to respect that every node have all children with different distances. If there is a colission (like we have now) then the new word must become a children of the node with which there was the colition. In this case, a children of **book**. The new weight from **books** to **boo** has to be `edit_dis(books,boo)=2`.\n",
    "\n",
    "```\n",
    "       1           2\n",
    "book ----- books ----- boo\n",
    "    |\n",
    "    | 4\n",
    "    ----cake\n",
    "```\n",
    "\n",
    "#### Adding [**cape**,**cart**,**boon**,**cook**].\n",
    "\n",
    "- Add **cape**. Notice `edit_dis(books,cape)=4` but **cake** is altready at distance 4. Therefore **cape** needs to be a child of **cake** with a weighted edge of weight `edit_dis(cake,cape)=1`.\n",
    "```\n",
    "       1           2\n",
    "book ----- books ----- boo\n",
    "    |\n",
    "    | 4        1  \n",
    "    ----cake ----- cape\n",
    "```\n",
    "\n",
    "- Add **cart**. Notice `edit_dis(books,cart)=4`. Therefore **cart** needs to be a children of **cake** (or any subchildren of cake). Since `edit_dis(cake,cart)=2` then :\n",
    "```\n",
    "       1           2\n",
    "book ----- books ----- boo\n",
    "    |\n",
    "    | 4        1  \n",
    "    ----cake ----- cape\n",
    "           |\n",
    "           | 2        \n",
    "           ----- cart\n",
    "```\n",
    "\n",
    "- Add **boon**. Notice  `edit_dis(book,boon)=1`. Therefore **boon** has to be a descendant of **books** (because books is a son of book with weight 1). Notice `edit_dis(books,boon)=2` but there is already node **boo** at distance 2. Therefore **boon** needs to be a descendant of **boo**. Notice `edit_dis(boo,boon)=1`.\n",
    "\n",
    "```\n",
    "       1           2         1\n",
    "book ----- books ----- boo ----- boon\n",
    "    |                   \n",
    "    | 4        1  \n",
    "    ----cake ----- cape\n",
    "           |\n",
    "           | 2        \n",
    "           ----- cart\n",
    "```\n",
    "\n",
    "- Add **cook**.  Notice  `edit_dis(book,cook)=1` but book contains a descendant at distance 1, books, so cook has to be a dascendant of books.  Notice  `edit_dis(books,cook)=2` but books has a descendant at distance 2, **boo**, so cook has to be a descendant of boo.   Notice  `edit_dis(boo,cook)=2` and boo has no other descendant at distance 2. Therefore we can add cook as descendant of boo with weight 2.\n",
    "\n",
    "```\n",
    "       1           2         1\n",
    "book ----- books ----- boo ----- boon\n",
    "    |                    |\n",
    "    |                    |  2\n",
    "    |                    ------ cook\n",
    "    | 4        1  \n",
    "    ----cake ----- cape\n",
    "           |\n",
    "           | 2        \n",
    "           ----- cart\n",
    "```\n"
   ]
  },
  {
   "cell_type": "markdown",
   "metadata": {},
   "source": [
    "## How to code a BK tree\n",
    "\n",
    "Now we would like to know how do we construct a bk-tree in python and store it. A natural way to store a tree is using many tuples concatenated. Since a tree \n",
    "\n",
    "##### Exercise: fill in the BKTree class to create a tree"
   ]
  },
  {
   "cell_type": "code",
   "execution_count": null,
   "metadata": {
    "ExecuteTime": {
     "end_time": "2022-03-09T16:20:39.935275Z",
     "start_time": "2022-03-09T16:20:39.929286Z"
    }
   },
   "outputs": [],
   "source": [
    "words[0:10]"
   ]
  },
  {
   "cell_type": "code",
   "execution_count": null,
   "metadata": {
    "ExecuteTime": {
     "end_time": "2022-03-09T16:31:37.806902Z",
     "start_time": "2022-03-09T16:31:37.798536Z"
    }
   },
   "outputs": [],
   "source": [
    "class BKTree:\n",
    "    def __init__(self, distfn, words):\n",
    "        self.distfn = distfn\n",
    "\n",
    "        it = iter(words)\n",
    "        root = next(it)\n",
    "        self.tree = (root, {})\n",
    "\n",
    "        for w in it:\n",
    "            self._add_word(self.tree, w)\n",
    "\n",
    "    def _add_word(self, parent, word):\n",
    "        pword, children = parent\n",
    "        d = self.distfn(word, pword)\n",
    "        \n",
    "        # TODO BEGIN ------------------------------------------\n",
    "        # call _add_word recursively to keep adding words\n",
    "\n",
    "        # TODO END --------------------------------------------\n",
    "        "
   ]
  },
  {
   "cell_type": "code",
   "execution_count": null,
   "metadata": {},
   "outputs": [],
   "source": [
    "t = BKTree(editdistance.eval, ['book'])\n",
    "t.tree"
   ]
  },
  {
   "cell_type": "code",
   "execution_count": null,
   "metadata": {},
   "outputs": [],
   "source": [
    "t = BKTree(editdistance.eval, ['book', 'books'])\n",
    "t.tree"
   ]
  },
  {
   "cell_type": "code",
   "execution_count": null,
   "metadata": {},
   "outputs": [],
   "source": [
    "t = BKTree(editdistance.eval, ['book', 'books','cake'])\n",
    "t.tree"
   ]
  },
  {
   "cell_type": "code",
   "execution_count": null,
   "metadata": {},
   "outputs": [],
   "source": [
    "words_simple = ['book', 'books', 'cake', 'boo'] \n",
    "t = BKTree(editdistance.eval, words_simple)\n",
    "t.tree"
   ]
  },
  {
   "cell_type": "code",
   "execution_count": null,
   "metadata": {},
   "outputs": [],
   "source": [
    "words_simple = ['book', 'books', 'cake', 'boo', 'cape', 'cart', 'boon', 'cook'] \n",
    "t = BKTree(editdistance.eval, words_simple)\n",
    "t.tree"
   ]
  },
  {
   "cell_type": "markdown",
   "metadata": {},
   "source": [
    "### Building a BK-Tree with many words\n",
    "\n",
    "Let us see the cost of constructing the tree for `words` which has 23k strings"
   ]
  },
  {
   "cell_type": "code",
   "execution_count": null,
   "metadata": {
    "ExecuteTime": {
     "end_time": "2022-03-09T16:31:45.563748Z",
     "start_time": "2022-03-09T16:31:40.236118Z"
    }
   },
   "outputs": [],
   "source": [
    "%%time\n",
    "t = BKTree(editdistance.eval, [w.lower() for w in words])"
   ]
  },
  {
   "cell_type": "code",
   "execution_count": null,
   "metadata": {
    "ExecuteTime": {
     "end_time": "2022-03-09T16:32:09.332246Z",
     "start_time": "2022-03-09T16:32:09.326592Z"
    },
    "scrolled": true
   },
   "outputs": [],
   "source": [
    "len(t.tree), len(t.tree[1]), type(t.tree[1])"
   ]
  },
  {
   "cell_type": "code",
   "execution_count": null,
   "metadata": {
    "ExecuteTime": {
     "end_time": "2022-03-09T16:33:44.152551Z",
     "start_time": "2022-03-09T16:33:44.147658Z"
    }
   },
   "outputs": [],
   "source": [
    "t.tree[1].keys()"
   ]
  },
  {
   "cell_type": "code",
   "execution_count": null,
   "metadata": {},
   "outputs": [],
   "source": [
    "t.tree[1][12]"
   ]
  },
  {
   "cell_type": "code",
   "execution_count": null,
   "metadata": {
    "ExecuteTime": {
     "end_time": "2022-03-09T16:33:49.544288Z",
     "start_time": "2022-03-09T16:33:49.537756Z"
    },
    "scrolled": true
   },
   "outputs": [],
   "source": [
    "t.tree[1][20]"
   ]
  },
  {
   "cell_type": "code",
   "execution_count": null,
   "metadata": {
    "ExecuteTime": {
     "end_time": "2022-03-09T16:35:46.100699Z",
     "start_time": "2022-03-09T16:35:46.097112Z"
    }
   },
   "outputs": [],
   "source": [
    "branches_from_root = t.tree[1]\n",
    "branch_20          = branches_from_root[20]\n",
    "branch_21          = branches_from_root[21]"
   ]
  },
  {
   "cell_type": "code",
   "execution_count": null,
   "metadata": {
    "ExecuteTime": {
     "end_time": "2022-03-09T16:35:47.383923Z",
     "start_time": "2022-03-09T16:35:47.378208Z"
    }
   },
   "outputs": [],
   "source": [
    "branch_20"
   ]
  },
  {
   "cell_type": "code",
   "execution_count": null,
   "metadata": {
    "ExecuteTime": {
     "end_time": "2022-03-09T06:46:02.075526Z",
     "start_time": "2022-03-09T06:46:02.069703Z"
    }
   },
   "outputs": [],
   "source": [
    "branch_21"
   ]
  },
  {
   "cell_type": "markdown",
   "metadata": {
    "collapsed": true
   },
   "source": [
    "## Searching in a BK tree\n",
    "\n",
    "Now in order to search all words that appear at distance less or equal than a tolerance T form a query word `q` we need to visit all nodes n that are at distance D(n,q)+-N.\n",
    "\n",
    "Let us consider word q=caqe, T=1, candidates = [], search=[book]\n",
    "\n",
    "Select candidate **book** from search=[book]\n",
    "- edit_dist(book,caqe) = 4 => candidates is not updated\n",
    "    - Crawl all children of book at distance I=[4-1,4+1]=[3,5]\n",
    "    - There is a single node, search=[book,cake], inside I.\n",
    "    - search = [book,cake]\\book = [cake]\n",
    "    \n",
    "Select candidate **cake** from search=[cake]\n",
    "- edit_dist(cake,caqe) = 1 => candidates =[cake]\n",
    "    - Crawl all children of book at distance I=[1-1,1+1]=[0,2]\n",
    "    - There are 2 possible nodes, search=[cape, cart]\n",
    "\n",
    "\n",
    "Select candidate **cape** from search=[cape,cart]\n",
    "- edit_dist(cape,caqe) = 1 => candidates =[cake, cape]\n",
    "    - Crawl all children of cape at distance I=[1-1,1+1]=[0,2]\n",
    "    - Cape has no children\n",
    "    - search = [cape, cart]\\cape = [cart]\n",
    "    \n",
    "    \n",
    "Select candidate **cart** from search=[cart]\n",
    "- edit_dist(cart,caqe) = 2 => candidates is not updated\n",
    "    - Crawl all children of cape at distance I=[1-1,1+1]=[0,2]\n",
    "    - Caqe has no children\n",
    "    - search = [cart]\\cart = []\n",
    "\n",
    "\n",
    "Select candidate... There is no candidate! stop process. \n",
    "\n",
    "The resulting set of possible candidates at distance 1 are: [cape,cake].\n",
    "\n",
    "Notice that we ended up computing 4 edit distances yet we have 8 nodes.\n",
    "\n"
   ]
  },
  {
   "cell_type": "markdown",
   "metadata": {},
   "source": [
    "### Making queries "
   ]
  },
  {
   "cell_type": "code",
   "execution_count": null,
   "metadata": {
    "ExecuteTime": {
     "end_time": "2022-03-09T16:48:01.467937Z",
     "start_time": "2022-03-09T16:48:01.457784Z"
    }
   },
   "outputs": [],
   "source": [
    "visited_nodes = []\n",
    "class BKTree:\n",
    "    def __init__(self, distfn, words):\n",
    "        self.distfn = distfn\n",
    "\n",
    "        it = iter(words)\n",
    "        root = next(it)\n",
    "        self.tree = (root, {})\n",
    "\n",
    "        for i in it:\n",
    "            self._add_word(self.tree, i)\n",
    "\n",
    "    def _add_word(self, parent, word):\n",
    "        pword, children = parent\n",
    "        d = self.distfn(word, pword)\n",
    "        # TODO BEGIN ------------------------------------------\n",
    "\n",
    "        # TODO END --------------------------------------------\n",
    "        \n",
    "    def _search_descendants(self, parent, n, query_word):   \n",
    "        node_word, children_dict = parent\n",
    "        dist_to_node = self.distfn(query_word, node_word)\n",
    "        visited_nodes.append(node_word)\n",
    "        results = []\n",
    "        if dist_to_node <= n:\n",
    "            results.append((dist_to_node, node_word))\n",
    "        \n",
    "        # TODO BEGIN ------------------------------------------\n",
    "        # (dist - T, dist+T+1)\n",
    "\n",
    "        # TODO END --------------------------------------------\n",
    "          \n",
    "        return results\n",
    "            \n",
    "    def query(self, query_word, n):\n",
    "        # sort by distance\n",
    "        return sorted(self._search_descendants(self.tree, n, query_word))"
   ]
  },
  {
   "cell_type": "code",
   "execution_count": null,
   "metadata": {
    "ExecuteTime": {
     "end_time": "2022-03-09T16:48:12.384196Z",
     "start_time": "2022-03-09T16:48:06.637159Z"
    }
   },
   "outputs": [],
   "source": [
    "%%time\n",
    "t = BKTree(editdistance.eval, words)"
   ]
  },
  {
   "cell_type": "code",
   "execution_count": null,
   "metadata": {
    "ExecuteTime": {
     "end_time": "2022-03-09T16:52:38.006738Z",
     "start_time": "2022-03-09T16:52:37.796597Z"
    },
    "scrolled": true
   },
   "outputs": [],
   "source": [
    "%%time\n",
    "visited_nodes = []\n",
    "print(t.query(\"senzorial\", 2))"
   ]
  },
  {
   "cell_type": "code",
   "execution_count": null,
   "metadata": {
    "ExecuteTime": {
     "end_time": "2022-03-09T16:48:48.649197Z",
     "start_time": "2022-03-09T16:48:48.642863Z"
    },
    "scrolled": true
   },
   "outputs": [],
   "source": [
    "len(visited_nodes), len(words)"
   ]
  },
  {
   "cell_type": "markdown",
   "metadata": {},
   "source": [
    "If the edit distance is slow, the construction and search in the bktree will be slow.\n",
    "\n",
    "Compare it with the nltk.edit_distance"
   ]
  },
  {
   "cell_type": "code",
   "execution_count": null,
   "metadata": {
    "ExecuteTime": {
     "end_time": "2022-03-09T16:52:26.391718Z",
     "start_time": "2022-03-09T16:49:47.126893Z"
    }
   },
   "outputs": [],
   "source": [
    "%%time\n",
    "t_nltk = BKTree(nltk.distance.edit_distance, words)"
   ]
  },
  {
   "cell_type": "code",
   "execution_count": null,
   "metadata": {
    "ExecuteTime": {
     "end_time": "2022-03-09T16:52:50.726217Z",
     "start_time": "2022-03-09T16:52:46.659846Z"
    }
   },
   "outputs": [],
   "source": [
    "%%time\n",
    "t_nltk.query(\"senzorial\", 2)"
   ]
  },
  {
   "cell_type": "code",
   "execution_count": null,
   "metadata": {},
   "outputs": [],
   "source": [
    "%%time\n",
    "t.query(\"senzorial\", 2)"
   ]
  },
  {
   "cell_type": "markdown",
   "metadata": {},
   "source": [
    "### Comparing exhaustive computation vs bktree with the same edit distance function"
   ]
  },
  {
   "cell_type": "code",
   "execution_count": null,
   "metadata": {
    "ExecuteTime": {
     "end_time": "2022-03-09T16:53:08.855430Z",
     "start_time": "2022-03-09T16:53:08.848271Z"
    }
   },
   "outputs": [],
   "source": [
    "from typing import List\n",
    "\n",
    "def get_candidates_exhaustive(distfn, query, max_dist, vocabulary, sort_candidates=True):\n",
    "    \"\"\"\n",
    "    Compute the candidate words from the vocabulary at most `max_dist` away from the input token.\n",
    "    Then it filters candidates by the computed values in the distance function.\n",
    "    This function is mainly used for benchmarking purposes.\n",
    "    :return: list of candidate words.\n",
    "    \"\"\"\n",
    "    query = query.lower()\n",
    "    distance_token_to_words = {\n",
    "        word: distfn(query, word) for word in vocabulary\n",
    "    }\n",
    "    min_dist = min(distance_token_to_words.values())\n",
    "    if min_dist <= max_dist:\n",
    "        if sort_candidates:\n",
    "            result = sorted(\n",
    "                [\n",
    "                    (distance, word)\n",
    "                    for word, distance in distance_token_to_words.items()\n",
    "                    if distance <= max_dist\n",
    "                ]\n",
    "            )\n",
    "        else:\n",
    "            result = [\n",
    "                word\n",
    "                for word, distance in distance_token_to_words.items()\n",
    "                if distance <= max_dist\n",
    "            ]\n",
    "        return result"
   ]
  },
  {
   "cell_type": "code",
   "execution_count": null,
   "metadata": {
    "ExecuteTime": {
     "end_time": "2022-03-09T16:53:11.232222Z",
     "start_time": "2022-03-09T16:53:10.681942Z"
    },
    "scrolled": true
   },
   "outputs": [],
   "source": [
    "word = \"anthropomorphologicaly\"\n",
    "max_dist = 2\n",
    "sort_candidates=False\n",
    "        \n",
    "%timeit candidates_ext = get_candidates_exhaustive(editdistance.eval, word, max_dist, words)"
   ]
  },
  {
   "cell_type": "code",
   "execution_count": null,
   "metadata": {},
   "outputs": [],
   "source": [
    "candidates_ext = get_candidates_exhaustive(editdistance.eval, word, max_dist, words)\n",
    "candidates_ext"
   ]
  },
  {
   "cell_type": "code",
   "execution_count": null,
   "metadata": {},
   "outputs": [],
   "source": [
    "word = \"anthropomorphologicaly\"\n",
    "\n",
    "%timeit candidates = t.query(word, 2)"
   ]
  },
  {
   "cell_type": "code",
   "execution_count": null,
   "metadata": {},
   "outputs": [],
   "source": [
    "candidates = t.query(word, 2)\n",
    "candidates"
   ]
  },
  {
   "cell_type": "code",
   "execution_count": null,
   "metadata": {},
   "outputs": [],
   "source": [
    "word = \"astrologi\"\n",
    "max_dist = 2\n",
    "sort_candidates=False\n",
    "        \n",
    "%timeit candidates_ext = get_candidates_exhaustive(editdistance.eval, word, max_dist, words)"
   ]
  },
  {
   "cell_type": "code",
   "execution_count": null,
   "metadata": {
    "scrolled": true
   },
   "outputs": [],
   "source": [
    "word = \"astrologi\"\n",
    "\n",
    "%timeit t.query(word, 2)"
   ]
  },
  {
   "cell_type": "markdown",
   "metadata": {},
   "source": [
    "Notice that we have an issue with \"hamer\" since it is (in edit distance) as close as \"hammer\"  than \"haler\".\n",
    "\n",
    "We would like to, somehow, choose wisely among a set of candidates."
   ]
  },
  {
   "cell_type": "code",
   "execution_count": null,
   "metadata": {
    "ExecuteTime": {
     "end_time": "2022-03-09T16:53:12.909445Z",
     "start_time": "2022-03-09T16:53:12.884956Z"
    }
   },
   "outputs": [],
   "source": [
    "candidates_bktree = t.query(\"hamer\", 1)\n",
    "candidates_bktree"
   ]
  },
  {
   "cell_type": "code",
   "execution_count": null,
   "metadata": {
    "ExecuteTime": {
     "end_time": "2022-03-09T16:53:26.505330Z",
     "start_time": "2022-03-09T16:53:13.488421Z"
    }
   },
   "outputs": [],
   "source": [
    "%timeit  get_candidates_exhaustive(editdistance.eval, word, max_dist, words, sort_candidates)\n",
    "%timeit  t.query(word, 1)"
   ]
  },
  {
   "cell_type": "markdown",
   "metadata": {},
   "source": [
    "### Correcting a phrase\n",
    "\n",
    "Notice that there are several words at the same distance. Picking the correct word is not the aim for today's class. The aim is to find a small list that contains the correct word."
   ]
  },
  {
   "cell_type": "code",
   "execution_count": null,
   "metadata": {
    "ExecuteTime": {
     "end_time": "2022-03-09T16:54:13.614074Z",
     "start_time": "2022-03-09T16:54:13.610088Z"
    }
   },
   "outputs": [],
   "source": [
    "phrase = \"the man wentt to the antimonarchik protest because he did not like the king\""
   ]
  },
  {
   "cell_type": "code",
   "execution_count": null,
   "metadata": {
    "ExecuteTime": {
     "end_time": "2022-03-09T16:54:16.279685Z",
     "start_time": "2022-03-09T16:54:13.905826Z"
    }
   },
   "outputs": [],
   "source": [
    "def correct_exhaustive(phrase, words):\n",
    "    correction = []\n",
    "    for w in phrase.split(\" \"):\n",
    "        if w in words:\n",
    "            correction.append(w)\n",
    "        else:\n",
    "            w_similar = get_candidates_exhaustive(editdistance.eval, w, 2, words, True)\n",
    "            if len(w_similar)>0:\n",
    "                w_corrected = w_similar[0][1]\n",
    "                correction.append(w_corrected)\n",
    "            else:\n",
    "                # no word found, simply append the unedited word\n",
    "                correction.append(w)\n",
    "    return correction"
   ]
  },
  {
   "cell_type": "code",
   "execution_count": null,
   "metadata": {},
   "outputs": [],
   "source": [
    "print(\"Original:\\n\", phrase)\n",
    "print(\"Corrected:\\n\", \" \".join(correct_exhaustive(phrase, words)))"
   ]
  },
  {
   "cell_type": "code",
   "execution_count": null,
   "metadata": {
    "ExecuteTime": {
     "end_time": "2022-03-09T16:55:43.597644Z",
     "start_time": "2022-03-09T16:55:43.211207Z"
    }
   },
   "outputs": [],
   "source": [
    "def correct_bktree(bktree, phrase, words):\n",
    "    correction = []\n",
    "    for w in phrase.split(\" \"):\n",
    "        if w in words:\n",
    "            correction.append(w)\n",
    "        else:\n",
    "            w_similar = bktree.query(w,2)\n",
    "            if len(w_similar)>0:\n",
    "                w_corrected = w_similar[0][1]\n",
    "                correction.append(w_corrected)\n",
    "            else:\n",
    "                # no word found, simply append the unedited word\n",
    "                correction.append(w)\n",
    "    return correction"
   ]
  },
  {
   "cell_type": "code",
   "execution_count": null,
   "metadata": {},
   "outputs": [],
   "source": [
    "print(\"Original:\\n\",phrase)\n",
    "print(\"Corrected:\\n\",\" \".join(correct_bktree(t, phrase, words)))"
   ]
  },
  {
   "cell_type": "code",
   "execution_count": null,
   "metadata": {},
   "outputs": [],
   "source": [
    "%timeit correct_exhaustive(phrase, words)\n",
    "%timeit correct_bktree(t, phrase, words)"
   ]
  },
  {
   "cell_type": "code",
   "execution_count": null,
   "metadata": {},
   "outputs": [],
   "source": []
  }
 ],
 "metadata": {
  "kernelspec": {
   "display_name": "Python [conda env:ub_nlp]",
   "language": "python",
   "name": "conda-env-ub_nlp-py"
  },
  "language_info": {
   "codemirror_mode": {
    "name": "ipython",
    "version": 3
   },
   "file_extension": ".py",
   "mimetype": "text/x-python",
   "name": "python",
   "nbconvert_exporter": "python",
   "pygments_lexer": "ipython3",
   "version": "3.10.9"
  },
  "toc": {
   "base_numbering": 1,
   "nav_menu": {},
   "number_sections": true,
   "sideBar": true,
   "skip_h1_title": false,
   "title_cell": "Table of Contents",
   "title_sidebar": "Contents",
   "toc_cell": false,
   "toc_position": {},
   "toc_section_display": true,
   "toc_window_display": false
  },
  "varInspector": {
   "cols": {
    "lenName": 16,
    "lenType": 16,
    "lenVar": 40
   },
   "kernels_config": {
    "python": {
     "delete_cmd_postfix": "",
     "delete_cmd_prefix": "del ",
     "library": "var_list.py",
     "varRefreshCmd": "print(var_dic_list())"
    },
    "r": {
     "delete_cmd_postfix": ") ",
     "delete_cmd_prefix": "rm(",
     "library": "var_list.r",
     "varRefreshCmd": "cat(var_dic_list()) "
    }
   },
   "types_to_exclude": [
    "module",
    "function",
    "builtin_function_or_method",
    "instance",
    "_Feature"
   ],
   "window_display": false
  }
 },
 "nbformat": 4,
 "nbformat_minor": 1
}
