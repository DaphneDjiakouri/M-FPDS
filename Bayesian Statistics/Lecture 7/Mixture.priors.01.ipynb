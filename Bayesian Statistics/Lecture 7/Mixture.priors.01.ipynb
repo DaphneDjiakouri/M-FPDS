{
 "cells": [
  {
   "cell_type": "markdown",
   "metadata": {},
   "source": [
    "# Mixtures of conjugate priors 01"
   ]
  },
  {
   "cell_type": "markdown",
   "metadata": {},
   "source": [
    "_Adapted from Josep Fortiana (2023-03-13) by Jordi Abante (2024-03-25)_"
   ]
  },
  {
   "cell_type": "markdown",
   "metadata": {
    "tags": []
   },
   "source": [
    "## The spinning coin"
   ]
  },
  {
   "cell_type": "markdown",
   "metadata": {},
   "source": [
    "<div><center><table class=\"image\">\n",
    "<caption align=\"top\"><h1>Persi Diaconis</h1></caption>\n",
    "<tr><td><img src=\"Persi.Diaconis.jpg\" width=\"500\"></td></tr>\n",
    "</table></center></div>   "
   ]
  },
  {
   "cell_type": "markdown",
   "metadata": {},
   "source": [
    "Stanford stat and math professor Persi Diaconis, formerly a professional magician, famously determined how many times a deck of cards  must be shuffled in order to give a mathematically random result (seven). He’s also dabbled in coin games. \n",
    "\n",
    "You might be interested in his 2013 video talk: [The Search for Randomness](https://www.youtube.com/watch?v=xit5LDwJVck)\n",
    "\n",
    "The example below is taken from the paper by Persi Diaconis and Donald Ylvisaker (1985), _Quantifying prior opinion._\n",
    "In: J.M. Bernardo et al (eds), _Bayesian Statistics 2,_ Elsevier Science Publishers B.V. (North-Holland) pp. 133-156.\n",
    "A modified form of it appears in  Jim Albert (2009), Bayesian computation with R (2nd ed), Springer, pp. 49-52 (se Exercise below)."
   ]
  },
  {
   "cell_type": "markdown",
   "metadata": {},
   "source": [
    "## The spinning coin\n",
    "\n",
    "The problem investigated originates from the following fact: if a coin is spinned on its edge instead of being flipped, the proportion of heads or tails is not around 50% but rather such values as one third or two thirds are obtained."
   ]
  },
  {
   "cell_type": "markdown",
   "metadata": {},
   "source": [
    "<div><center><table class=\"image\">\n",
    "<tr><td><img src=\"spinning.coin.2.jpg\" width=\"170\"></td></tr>\n",
    "</table></center></div>   "
   ]
  },
  {
   "cell_type": "markdown",
   "metadata": {},
   "source": [
    "According to Diaconis, \"the reasons for the bias are not hard to infer. The shape of the edge will be a strong determining factor - indeed, magicians have coins that are slightly shaved; the eye cannot detect the shaving, but the spun coin always comes up heads\".\n",
    "\n",
    "For $ n$ tosses of a spinning coin, the number $x$ of heads up is a $\\operatorname{B}(n,\\theta)$, and $\\theta$'s prior pdf will typically be a bimodal function (i.e., presenting two local maxima). \n",
    "\n",
    "Hence it cannot be modelled with a $\\operatorname{Beta}(\\alpha,\\beta)$, which has a single mode at:\n",
    "\n",
    "$$\n",
    "\t\\dfrac{\\alpha-1}{\\alpha+\\beta-2}\n",
    "$$"
   ]
  },
  {
   "cell_type": "markdown",
   "metadata": {},
   "source": [
    "# Diaconis spinning coin - Computations"
   ]
  },
  {
   "cell_type": "code",
   "execution_count": 1,
   "metadata": {
    "vscode": {
     "languageId": "r"
    }
   },
   "outputs": [
    {
     "name": "stderr",
     "output_type": "stream",
     "text": [
      "Loading required package: MASS\n",
      "\n",
      "Loading required package: extraDistr\n",
      "\n"
     ]
    }
   ],
   "source": [
    "require(MASS) # for truehist\n",
    "#install.packages(\"extraDistr\", dependencies=TRUE, repos= \"https://cloud.r-project.org\")\n",
    "require(extraDistr) # needed for the Beta-binomial predictive prior"
   ]
  },
  {
   "cell_type": "code",
   "execution_count": 2,
   "metadata": {
    "vscode": {
     "languageId": "r"
    }
   },
   "outputs": [],
   "source": [
    "N<-20000"
   ]
  },
  {
   "cell_type": "markdown",
   "metadata": {},
   "source": [
    "## Theoretical prior pdf"
   ]
  },
  {
   "cell_type": "markdown",
   "metadata": {},
   "source": [
    "### Mixture of two Beta distributions"
   ]
  },
  {
   "cell_type": "code",
   "execution_count": 3,
   "metadata": {
    "vscode": {
     "languageId": "r"
    }
   },
   "outputs": [],
   "source": [
    "prior.a1<-10\n",
    "prior.b1<-20\n",
    "prior.a2<-20\n",
    "prior.b2<-10\n",
    "prior.gamma<-0.5"
   ]
  },
  {
   "cell_type": "code",
   "execution_count": 4,
   "metadata": {
    "vscode": {
     "languageId": "r"
    }
   },
   "outputs": [
    {
     "data": {
      "image/png": "[encoded data removed]",
      "text/plain": [
       "Plot with title \"Second pdf\""
      ]
     },
     "metadata": {
      "image/png": {
       "height": 300,
       "width": 600
      }
     },
     "output_type": "display_data"
    }
   ],
   "source": [
    "options(repr.plot.width=10,repr.plot.height=5)\n",
    "v<-seq(0,1,length=500)\n",
    "old.par<-par(mfrow=c(1,2))\n",
    "plot(v,dbeta(v,prior.a1,prior.b1),type=\"l\",lwd=3.5,col=\"DarkGreen\",xlab=\"x\",ylab=\"Density\",main=\"First pdf\")\n",
    "plot(v,dbeta(v,prior.a2,prior.b2),type=\"l\",lwd=3.5,col=\"DarkGreen\",xlab=\"x\",ylab=\"Density\",main=\"Second pdf\")\n",
    "par(old.par)"
   ]
  },
  {
   "cell_type": "markdown",
   "metadata": {},
   "source": [
    "NB. The mixture of two r.v., $X_{1}$, with pdf $f_{1}$, and $X_{2}$, with pdf $f_{2}$, and coefficients $(\\lambda, 1-\\lambda)$, $\\lambda\\in(0,1)$, is a r.v. with pdf $f=\\lambda f_{1}+(1-\\lambda) f_{2}$, which is NOT the same thing as the _sum_   \n",
    "\n",
    "$$\n",
    "    X=\\lambda X_{1}+(1-\\lambda) X_{2}. \n",
    "$$\n",
    "\n",
    "We are not concerned just now about the pdf of $X=\\lambda X_{1}+(1-\\lambda) X_{2}$.\n",
    "\n",
    "If you want to know, is the _convolution_ of the pdf's of its summands, not its sum. "
   ]
  },
  {
   "cell_type": "code",
   "execution_count": 5,
   "metadata": {
    "vscode": {
     "languageId": "r"
    }
   },
   "outputs": [],
   "source": [
    "mixture.prior.pdf<-function(theta){\n",
    "    return(prior.gamma*dbeta(theta,prior.a1,prior.b1)+(1-prior.gamma)*dbeta(theta,prior.a2,prior.b2))\n",
    "    }"
   ]
  },
  {
   "cell_type": "code",
   "execution_count": 6,
   "metadata": {
    "tags": [],
    "vscode": {
     "languageId": "r"
    }
   },
   "outputs": [
    {
     "data": {
      "image/png": "[encoded data removed]",
      "text/plain": [
       "Plot with title \"Mixture prior\""
      ]
     },
     "metadata": {
      "image/png": {
       "height": 330,
       "width": 330
      }
     },
     "output_type": "display_data"
    }
   ],
   "source": [
    "options(repr.plot.width=5.5,repr.plot.height=5.5)\n",
    "v<-seq(0,1,length=500)\n",
    "plot(v,mixture.prior.pdf(v),type=\"l\",lwd=3.5,col=\"DarkGreen\",xlab=\"x\",ylab=\"Density\",main=\"Mixture prior\")"
   ]
  },
  {
   "cell_type": "code",
   "execution_count": 7,
   "metadata": {
    "vscode": {
     "languageId": "r"
    }
   },
   "outputs": [],
   "source": [
    "# Generating random numbers following the mixture prior\n",
    "Ind<-rbinom(N,size=1,prob=prior.gamma)\n",
    "Sim.prior.theta<-Ind*rbeta(N,shape1=prior.a1,shape2=prior.b1)+(1-Ind)*rbeta(N,shape1=prior.a2,shape2=prior.b2)"
   ]
  },
  {
   "cell_type": "code",
   "execution_count": 8,
   "metadata": {
    "tags": [],
    "vscode": {
     "languageId": "r"
    }
   },
   "outputs": [
    {
     "data": {
      "image/png": "[encoded data removed]",
      "text/plain": [
       "Plot with title \"Mixture prior\""
      ]
     },
     "metadata": {
      "image/png": {
       "height": 330,
       "width": 330
      }
     },
     "output_type": "display_data"
    }
   ],
   "source": [
    "options(repr.plot.width=5.5,repr.plot.height=5.5)\n",
    "truehist(Sim.prior.theta,ylim=c(0,2.5),nbins=30,col=\"LightGreen\",xlab=\"\",ylab=\"\",main=\"Mixture prior\")\n",
    "v<-seq(0,1,length=500)\n",
    "lines(v,mixture.prior.pdf(v),lwd=2.5,col=\"DarkGreen\")"
   ]
  },
  {
   "cell_type": "markdown",
   "metadata": {},
   "source": [
    "## Simulated prior predictive pmf"
   ]
  },
  {
   "cell_type": "code",
   "execution_count": 9,
   "metadata": {
    "vscode": {
     "languageId": "r"
    }
   },
   "outputs": [],
   "source": [
    "n<-10"
   ]
  },
  {
   "cell_type": "code",
   "execution_count": 10,
   "metadata": {
    "vscode": {
     "languageId": "r"
    }
   },
   "outputs": [],
   "source": [
    "Sim.x.prior.pred<-rbinom(N,size=n,prob=Sim.prior.theta)"
   ]
  },
  {
   "cell_type": "markdown",
   "metadata": {},
   "source": [
    "## Theoretical prior predictive pdf"
   ]
  },
  {
   "cell_type": "markdown",
   "metadata": {},
   "source": [
    "Assume the prior pdf for $\\theta$ is:\n",
    "\n",
    "$$\n",
    "\th(\\theta)=\\gamma\\cdot h_{1}(\\theta)+(1-\\gamma)\\cdot h_{2}(\\theta),\n",
    "$$\n",
    "\n",
    "and the likelihood is $\\sim \\binomdist(n,\\theta)$: \n",
    "\n",
    "$$\n",
    "        f(x\\,|\\,\\theta)=\\binom{n}{x}\\, \\theta^{x}\\cdot(1-\\theta)^{n-x},\\mskip40mu x=0,1,\\dots,n.\n",
    "$$\n",
    "\n",
    "We assume that both $h_{1}(\\theta)$ and $h_{2}(\\theta)$ belong to the conjugate family to the likelihood.\n",
    "\n",
    "Then, the joint pdf is:\n",
    "\n",
    "$$\n",
    "\tf(x,\\theta)=\\gamma\\cdot f_{1}(x,\\theta)+(1-\\gamma)\\cdot  f_{2}(x,\\theta).\n",
    "$$\n",
    "\n",
    "where:\n",
    "\n",
    "$$\n",
    "\t f_{i}(x,\\theta)=f(x\\,|\\,\\theta)\\cdot h_{i}(\\theta),\\quad i=1,2.\n",
    "$$"
   ]
  },
  {
   "cell_type": "markdown",
   "metadata": {},
   "source": [
    "Integrating out $\\theta$, the marginal for $x$:\n",
    "\n",
    "$$\n",
    "    f(x)=\\gamma\\cdot f_{1}(x)+(1-\\gamma)\\cdot f_{2}(x),\n",
    "$$\t\n",
    "\n",
    "where:\n",
    "\n",
    "$$\n",
    "\tf_{i}(x)=\\int f(x\\,|\\,\\theta)\\cdot h_{i}(\\theta)\\,d\\theta, \\quad i=1,2.\n",
    "$$"
   ]
  },
  {
   "cell_type": "markdown",
   "metadata": {},
   "source": [
    "Thus, the prior predictive pdf is a mixture, a convex combination of two pdf's, _partial prior predictive pdf's,_ with the same coefficients, $\\gamma$ and $1-\\gamma$, as the prior. By virtue of the conjugacy property we assumed these partial prior predictive pdf's follow from the general formulas of the conjugate pair, so there is no need to explicitly integrate $\\theta$ out. \n",
    "\n",
    "$$\n",
    "\\begin{align*}\n",
    "\tf_{1}\\sim\\operatorname{Beta-Binom}(n,\\alpha_{1},\\beta_{1})&=\\operatorname{Beta-Binom}(10,10,20),\\\\\n",
    "\tf_{2}\\sim\\operatorname{Beta-Binom}(n,\\alpha_{2},\\beta_{2})&=\\operatorname{Beta-Binom}(10,20,10),\n",
    "\\end{align*}\n",
    "$$"
   ]
  },
  {
   "cell_type": "code",
   "execution_count": 11,
   "metadata": {
    "vscode": {
     "languageId": "r"
    }
   },
   "outputs": [],
   "source": [
    "f1<-function(x){dbbinom(x,size=n,alpha=prior.a1,beta=prior.b1)}\n",
    "f2<-function(x){dbbinom(x,size=n,alpha=prior.a2,beta=prior.b2)}"
   ]
  },
  {
   "cell_type": "code",
   "execution_count": 12,
   "metadata": {
    "vscode": {
     "languageId": "r"
    }
   },
   "outputs": [],
   "source": [
    "Theor.prior.predictive.pmf<-function(x){\n",
    "    return(prior.gamma*f1(x)+(1-prior.gamma)*f2(x))\n",
    "    }"
   ]
  },
  {
   "cell_type": "markdown",
   "metadata": {},
   "source": [
    "### Compare simulated and theoretical prior predictive pmf"
   ]
  },
  {
   "cell_type": "code",
   "execution_count": 13,
   "metadata": {
    "vscode": {
     "languageId": "r"
    }
   },
   "outputs": [],
   "source": [
    "# Use tabulate() since table() does not register empty bins (resulting table has only positive frequencies), \n",
    "# First parameter in tabulate() must be a vector of positive integers\n",
    "T.Sim.x.prior.pred<-tabulate(Sim.x.prior.pred+1)\n",
    "f.Sim.x.prior.pred<-T.Sim.x.prior.pred/N\n",
    "# To recover the list of integers from 0 to the maximum integer with nonnull frequency\n",
    "u<-(1:length(T.Sim.x.prior.pred))-1"
   ]
  },
  {
   "cell_type": "code",
   "execution_count": 14,
   "metadata": {
    "vscode": {
     "languageId": "r"
    }
   },
   "outputs": [],
   "source": [
    "ftu<-Theor.prior.predictive.pmf(u)\n",
    "fsu<-f.Sim.x.prior.pred"
   ]
  },
  {
   "cell_type": "code",
   "execution_count": 15,
   "metadata": {
    "vscode": {
     "languageId": "r"
    }
   },
   "outputs": [
    {
     "data": {
      "text/html": [
       "<table class=\"dataframe\">\n",
       "<caption>A matrix: 2 × 11 of type dbl</caption>\n",
       "<tbody>\n",
       "\t<tr><th scope=row>fsu</th><td>0.016</td><td>0.053</td><td>0.1</td><td>0.128</td><td>0.134</td><td>0.133</td><td>0.137</td><td>0.129</td><td>0.097</td><td>0.058</td><td>0.015</td></tr>\n",
       "\t<tr><th scope=row>ftu</th><td>0.016</td><td>0.055</td><td>0.1</td><td>0.128</td><td>0.134</td><td>0.134</td><td>0.134</td><td>0.128</td><td>0.100</td><td>0.055</td><td>0.016</td></tr>\n",
       "</tbody>\n",
       "</table>\n"
      ],
      "text/latex": [
       "A matrix: 2 × 11 of type dbl\n",
       "\\begin{tabular}{r|lllllllllll}\n",
       "\tfsu & 0.016 & 0.053 & 0.1 & 0.128 & 0.134 & 0.133 & 0.137 & 0.129 & 0.097 & 0.058 & 0.015\\\\\n",
       "\tftu & 0.016 & 0.055 & 0.1 & 0.128 & 0.134 & 0.134 & 0.134 & 0.128 & 0.100 & 0.055 & 0.016\\\\\n",
       "\\end{tabular}\n"
      ],
      "text/markdown": [
       "\n",
       "A matrix: 2 × 11 of type dbl\n",
       "\n",
       "| fsu | 0.016 | 0.053 | 0.1 | 0.128 | 0.134 | 0.133 | 0.137 | 0.129 | 0.097 | 0.058 | 0.015 |\n",
       "| ftu | 0.016 | 0.055 | 0.1 | 0.128 | 0.134 | 0.134 | 0.134 | 0.128 | 0.100 | 0.055 | 0.016 |\n",
       "\n"
      ],
      "text/plain": [
       "    [,1]  [,2]  [,3] [,4]  [,5]  [,6]  [,7]  [,8]  [,9]  [,10] [,11]\n",
       "fsu 0.016 0.053 0.1  0.128 0.134 0.133 0.137 0.129 0.097 0.058 0.015\n",
       "ftu 0.016 0.055 0.1  0.128 0.134 0.134 0.134 0.128 0.100 0.055 0.016"
      ]
     },
     "metadata": {},
     "output_type": "display_data"
    },
    {
     "data": {
      "image/png": "[encoded data removed]",
      "text/plain": [
       "Plot with title \"Simulated and theoretical prior predictive pmf\""
      ]
     },
     "metadata": {
      "image/png": {
       "height": 420,
       "width": 360
      }
     },
     "output_type": "display_data"
    }
   ],
   "source": [
    "fstu<-cbind(fsu,ftu)\n",
    "round(t(fstu),3)\n",
    "options(repr.plot.width=6,repr.plot.height=7)\n",
    "matplot(x=cbind(u-0.1,u+0.1),y=fstu,type=\"h\",lwd=7, lty=1,col=c(\"LightGreen\",\"DarkGreen\"),\n",
    "        ylim=c(0,0.17),xlab=\"x\",ylab=\"Rel. Freqs./Probs.\",\n",
    "        main=\"Simulated and theoretical prior predictive pmf\")\n",
    "legend(\"topright\",legend=c(\"Simulated prior pred. pmf\",\"Theoretical prior pred. pmf\"),\n",
    "       lwd=8, lty=1,col=c(\"LightGreen\",\"DarkGreen\"))"
   ]
  },
  {
   "cell_type": "markdown",
   "metadata": {},
   "source": [
    "## Simulated posterior sample of $ \\theta$"
   ]
  },
  {
   "cell_type": "code",
   "execution_count": 16,
   "metadata": {
    "vscode": {
     "languageId": "r"
    }
   },
   "outputs": [],
   "source": [
    "# Observed x\n",
    "x.obs<-3"
   ]
  },
  {
   "cell_type": "code",
   "execution_count": 17,
   "metadata": {
    "vscode": {
     "languageId": "r"
    }
   },
   "outputs": [
    {
     "data": {
      "text/html": [
       "2562"
      ],
      "text/latex": [
       "2562"
      ],
      "text/markdown": [
       "2562"
      ],
      "text/plain": [
       "[1] 2562"
      ]
     },
     "metadata": {},
     "output_type": "display_data"
    },
    {
     "data": {
      "text/html": [
       "0.13"
      ],
      "text/latex": [
       "0.13"
      ],
      "text/markdown": [
       "0.13"
      ],
      "text/plain": [
       "[1] 0.13"
      ]
     },
     "metadata": {},
     "output_type": "display_data"
    }
   ],
   "source": [
    "x.obs.indexes<-(Sim.x.prior.pred==x.obs)\n",
    "N.post<-sum(x.obs.indexes)     # Posterior sample size\n",
    "Prop.N.post<-N.post/N  \n",
    "N.post\n",
    "round(Prop.N.post,2)"
   ]
  },
  {
   "cell_type": "code",
   "execution_count": 18,
   "metadata": {
    "vscode": {
     "languageId": "r"
    }
   },
   "outputs": [
    {
     "name": "stdout",
     "output_type": "stream",
     "text": [
      " num [1:2562] 0.247 0.285 0.433 0.248 0.287 ...\n"
     ]
    }
   ],
   "source": [
    "Sim.post.theta<-Sim.prior.theta[x.obs.indexes]\n",
    "str(Sim.post.theta)"
   ]
  },
  {
   "cell_type": "markdown",
   "metadata": {},
   "source": [
    "## Theoretical posterior pdf \n",
    "\n",
    "From Bayes' formula:\n",
    "\n",
    "$$\n",
    "    h(\\theta\\,|\\,x)=\\dfrac{f(x,\\theta)}{f(x)}\n",
    "        =\\dfrac{\\gamma\\cdot f_{1}(x,\\theta)+(1-\\gamma)\\cdot  f_{2}(x,\\theta)}\n",
    "            {\\gamma\\cdot f_{1}(x)+(1-\\gamma)\\cdot f_{2}(x)}.\n",
    "$$\n",
    "\n",
    "We will use the obvious notation:\n",
    "\n",
    "$$\n",
    "    h_{i}(\\theta\\,|\\,x)=\\dfrac{f_{i}(x,\\theta)}{f_{i}(x)}\t\\quad i=1,2.\n",
    "$$"
   ]
  },
  {
   "cell_type": "markdown",
   "metadata": {},
   "source": [
    "These functions are called _partial posterior pdf's._ \n",
    "\n",
    "Again, the conjugacy property allows us to derive them from the general formulas of the conjugate pair, that is, they belong to the same family as the priors with updated parameters.\n",
    "The posterior pdf is:\n",
    "\n",
    "$$\n",
    "\th(\\theta\\,|\\,x)=\\widehat{\\gamma}(x)\\cdot h_{1}(\\theta\\,|\\,x)\n",
    "\t\t+(1-\\widehat{\\gamma}(x))\\cdot h_{2}(\\theta\\,|\\,x),\n",
    "$$\n",
    "\n",
    "where the _posterior mixture weights_ are:\n",
    "\n",
    "$$\n",
    "\t\\widehat{\\gamma}(x)=\\dfrac{\\gamma\\cdot f_{1}(x)}{\\gamma\\cdot f_{1}(x)+(1-\\gamma)\\cdot f_{2}(x)}\n",
    "$$\n",
    "\n",
    "and $1-\\widehat{\\gamma}(x)$. Now, these weight are not the same as those in the prior and, furthermore, they depend on the observed data."
   ]
  },
  {
   "cell_type": "markdown",
   "metadata": {},
   "source": [
    "### Posterior weights"
   ]
  },
  {
   "cell_type": "code",
   "execution_count": 19,
   "metadata": {
    "vscode": {
     "languageId": "r"
    }
   },
   "outputs": [
    {
     "data": {
      "text/html": [
       "0.2276"
      ],
      "text/latex": [
       "0.2276"
      ],
      "text/markdown": [
       "0.2276"
      ],
      "text/plain": [
       "[1] 0.2276"
      ]
     },
     "metadata": {},
     "output_type": "display_data"
    },
    {
     "data": {
      "text/html": [
       "0.0277"
      ],
      "text/latex": [
       "0.0277"
      ],
      "text/markdown": [
       "0.0277"
      ],
      "text/plain": [
       "[1] 0.0277"
      ]
     },
     "metadata": {},
     "output_type": "display_data"
    }
   ],
   "source": [
    "# for the observed x\n",
    "f1x<-f1(x.obs)\n",
    "f2x<-f2(x.obs)\n",
    "round(f1x,4)\n",
    "round(f2x,4)\n",
    "#[1] 0.2276\n",
    "#[1] 0.0277"
   ]
  },
  {
   "cell_type": "code",
   "execution_count": 20,
   "metadata": {
    "vscode": {
     "languageId": "r"
    }
   },
   "outputs": [
    {
     "data": {
      "text/html": [
       "0.8915"
      ],
      "text/latex": [
       "0.8915"
      ],
      "text/markdown": [
       "0.8915"
      ],
      "text/plain": [
       "[1] 0.8915"
      ]
     },
     "metadata": {},
     "output_type": "display_data"
    }
   ],
   "source": [
    "posterior.gamma<-prior.gamma*f1x/(prior.gamma*f1x+(1-prior.gamma)*f2x)\n",
    "round(posterior.gamma,4)\n",
    "#[1] 0.8915"
   ]
  },
  {
   "cell_type": "markdown",
   "metadata": {},
   "source": [
    "$$\n",
    "    \\widehat{\\gamma}(x)=\\dfrac{\\gamma\\cdot f_{1}(x)}{\\gamma\\cdot f_{1}(x)+(1-\\gamma)\\cdot f_{2}(x)}= 0.8915.\n",
    "$$"
   ]
  },
  {
   "cell_type": "markdown",
   "metadata": {},
   "source": [
    "### Partial posterior pdf's"
   ]
  },
  {
   "cell_type": "markdown",
   "metadata": {},
   "source": [
    "$$\n",
    "\\begin{array}{l}\n",
    "\th_{1}\\sim\\operatorname{Beta}(\\alpha_{1}+x,\\beta_{1}+n-x)=\\operatorname{Beta}(10+3,20+10-3)\n",
    "        =\\operatorname{Beta}(13,27),\\\\[0.3cm]\n",
    "\th_{2}\\sim\\operatorname{Beta}(\\alpha_{2}+x,\\beta_{2}+n-x)=\\operatorname{Beta}(20+3,10+10-3)\n",
    "        =\\operatorname{Beta}(23,17).\n",
    "\\end{array}\n",
    "$$"
   ]
  },
  {
   "cell_type": "code",
   "execution_count": 21,
   "metadata": {
    "vscode": {
     "languageId": "r"
    }
   },
   "outputs": [],
   "source": [
    "posterior.a1<-prior.a1+x.obs\n",
    "posterior.b1<-prior.b1+n-x.obs\n",
    "posterior.a2<-prior.a2+x.obs\n",
    "posterior.b2<-prior.b2+n-x.obs"
   ]
  },
  {
   "cell_type": "code",
   "execution_count": 22,
   "metadata": {
    "vscode": {
     "languageId": "r"
    }
   },
   "outputs": [
    {
     "data": {
      "text/html": [
       "'Posterior parameters for the first component: (13,27)'"
      ],
      "text/latex": [
       "'Posterior parameters for the first component: (13,27)'"
      ],
      "text/markdown": [
       "'Posterior parameters for the first component: (13,27)'"
      ],
      "text/plain": [
       "[1] \"Posterior parameters for the first component: (13,27)\""
      ]
     },
     "metadata": {},
     "output_type": "display_data"
    },
    {
     "data": {
      "text/html": [
       "'Posterior parameters for the second component: (23,17)'"
      ],
      "text/latex": [
       "'Posterior parameters for the second component: (23,17)'"
      ],
      "text/markdown": [
       "'Posterior parameters for the second component: (23,17)'"
      ],
      "text/plain": [
       "[1] \"Posterior parameters for the second component: (23,17)\""
      ]
     },
     "metadata": {},
     "output_type": "display_data"
    }
   ],
   "source": [
    "sprintf(\"Posterior parameters for the first component: (%2.0d,%2.0d)\",posterior.a1,posterior.b1)\n",
    "sprintf(\"Posterior parameters for the second component: (%2.0d,%2.0d)\",posterior.a2,posterior.b2)"
   ]
  },
  {
   "cell_type": "markdown",
   "metadata": {},
   "source": [
    "### Theoretical posterior pdf"
   ]
  },
  {
   "cell_type": "code",
   "execution_count": 23,
   "metadata": {
    "vscode": {
     "languageId": "r"
    }
   },
   "outputs": [],
   "source": [
    "mixture.posterior.pdf<-function(theta){\n",
    "    return(posterior.gamma*dbeta(theta,posterior.a1,posterior.b1)\n",
    "    +(1-posterior.gamma)*dbeta(theta,posterior.a2,posterior.b2))}"
   ]
  },
  {
   "cell_type": "markdown",
   "metadata": {},
   "source": [
    "$$\n",
    "    0.8915\\,\\operatorname{Beta}(13,27)+0.1085\\,\\operatorname{Beta}(23,17).\n",
    "$$"
   ]
  },
  {
   "cell_type": "code",
   "execution_count": 24,
   "metadata": {
    "vscode": {
     "languageId": "r"
    }
   },
   "outputs": [
    {
     "data": {
      "image/png": "[encoded data removed]",
      "text/plain": [
       "Plot with title \"Mixture posterior\""
      ]
     },
     "metadata": {
      "image/png": {
       "height": 360,
       "width": 360
      }
     },
     "output_type": "display_data"
    }
   ],
   "source": [
    "# Plot the posterior pdf\n",
    "options(repr.plot.width=6,repr.plot.height=6)\n",
    "v<-seq(0,1,length=500)\n",
    "plot(v,mixture.posterior.pdf(v),\"l\",lwd=2.5,col=\"DarkGreen\",xlab=\"\",ylab=\"\",main=\"Mixture posterior\")"
   ]
  },
  {
   "cell_type": "markdown",
   "metadata": {},
   "source": [
    "### Compare simulated posterior sample and theoretical posterior pdf"
   ]
  },
  {
   "cell_type": "code",
   "execution_count": 25,
   "metadata": {
    "vscode": {
     "languageId": "r"
    }
   },
   "outputs": [
    {
     "data": {
      "image/png": "[encoded data removed]",
      "text/plain": [
       "plot without title"
      ]
     },
     "metadata": {
      "image/png": {
       "height": 360,
       "width": 360
      }
     },
     "output_type": "display_data"
    }
   ],
   "source": [
    "options(repr.plot.width=6,repr.plot.height=6)\n",
    "truehist(Sim.post.theta,col=\"LightGreen\",ylim=c(0,5))\n",
    "lines(v,mixture.posterior.pdf(v),lwd=2.5,col=\"DarkGreen\",xlab=\"\",ylab=\"\",main=\"Mixture posterior\")"
   ]
  },
  {
   "cell_type": "markdown",
   "metadata": {},
   "source": [
    "### Posterior expectation, var, sd"
   ]
  },
  {
   "cell_type": "code",
   "execution_count": 26,
   "metadata": {
    "vscode": {
     "languageId": "r"
    }
   },
   "outputs": [
    {
     "data": {
      "text/html": [
       "0.355"
      ],
      "text/latex": [
       "0.355"
      ],
      "text/markdown": [
       "0.355"
      ],
      "text/plain": [
       "[1] 0.355"
      ]
     },
     "metadata": {},
     "output_type": "display_data"
    },
    {
     "data": {
      "text/html": [
       "0.012"
      ],
      "text/latex": [
       "0.012"
      ],
      "text/markdown": [
       "0.012"
      ],
      "text/plain": [
       "[1] 0.012"
      ]
     },
     "metadata": {},
     "output_type": "display_data"
    },
    {
     "data": {
      "text/html": [
       "0.109"
      ],
      "text/latex": [
       "0.109"
      ],
      "text/markdown": [
       "0.109"
      ],
      "text/plain": [
       "[1] 0.109"
      ]
     },
     "metadata": {},
     "output_type": "display_data"
    }
   ],
   "source": [
    "Expected.post.theta<-mean(Sim.post.theta)\n",
    "var.post.theta<-var(Sim.post.theta)\n",
    "sd.post.theta<-sd(Sim.post.theta)\n",
    "round(Expected.post.theta,3)\n",
    "round(var.post.theta,3)\n",
    "round(sd.post.theta,3)"
   ]
  },
  {
   "cell_type": "markdown",
   "metadata": {},
   "source": [
    "## MAP estimator of $ \\theta$"
   ]
  },
  {
   "cell_type": "markdown",
   "metadata": {},
   "source": [
    "The posterior distribution attains its maximum value where $ \\operatorname{Beta}(13,27)$ does:\n",
    "\n",
    "$$\n",
    "    \\hat{\\theta}_{MAP}=\\dfrac{13-1}{13+27-2}=0.3158,\n",
    "$$\n",
    "\n",
    "which may be compared with the classical ML estimator:\n",
    "\n",
    "$$\n",
    "    \\hat{\\theta}_{ML}=\\dfrac{x}{n}=0.4286,\n",
    "$$\n",
    "\n",
    "and the lower mode of the prior distribution:\n",
    "\n",
    "$$\n",
    "    m_{1}=\\dfrac{10-1}{10+20-2}=0.3214.\n",
    "$$"
   ]
  },
  {
   "cell_type": "markdown",
   "metadata": {},
   "source": [
    "## Credible interval with a given probability\n",
    "\n",
    "The easiest way to obtain an interval $ [a,b]$ of $\\theta$ values such that its posterior probability is a given value, e.g., $\\pi=0.95$ is to use a random sample from the posterior distribution.\n",
    "\n",
    "Taking it quantile-symmetrical, i.e., such that both tails have probability $(1-\\pi)/2=0.025$, the interval is:"
   ]
  },
  {
   "cell_type": "code",
   "execution_count": 27,
   "metadata": {
    "vscode": {
     "languageId": "r"
    }
   },
   "outputs": [
    {
     "data": {
      "text/html": [
       "<style>\n",
       ".dl-inline {width: auto; margin:0; padding: 0}\n",
       ".dl-inline>dt, .dl-inline>dd {float: none; width: auto; display: inline-block}\n",
       ".dl-inline>dt::after {content: \":\\0020\"; padding-right: .5ex}\n",
       ".dl-inline>dt:not(:first-of-type) {padding-left: .5ex}\n",
       "</style><dl class=dl-inline><dt>2.5%</dt><dd>0.1925</dd><dt>97.5%</dt><dd>0.6385</dd></dl>\n"
      ],
      "text/latex": [
       "\\begin{description*}\n",
       "\\item[2.5\\textbackslash{}\\%] 0.1925\n",
       "\\item[97.5\\textbackslash{}\\%] 0.6385\n",
       "\\end{description*}\n"
      ],
      "text/markdown": [
       "2.5%\n",
       ":   0.192597.5%\n",
       ":   0.6385\n",
       "\n"
      ],
      "text/plain": [
       "  2.5%  97.5% \n",
       "0.1925 0.6385 "
      ]
     },
     "metadata": {},
     "output_type": "display_data"
    }
   ],
   "source": [
    "p<-0.95\n",
    "q<-(1-p)/2\n",
    "round(quantile(Sim.post.theta,p=c(q,p+q)),4)\n",
    "#  2.5%  97.5% \n",
    "#0.1932 0.6400"
   ]
  }
 ],
 "metadata": {
  "kernelspec": {
   "display_name": "R",
   "language": "R",
   "name": "ir"
  },
  "language_info": {
   "codemirror_mode": "r",
   "file_extension": ".r",
   "mimetype": "text/x-r-source",
   "name": "R",
   "pygments_lexer": "r",
   "version": "4.2.2"
  }
 },
 "nbformat": 4,
 "nbformat_minor": 4
}
