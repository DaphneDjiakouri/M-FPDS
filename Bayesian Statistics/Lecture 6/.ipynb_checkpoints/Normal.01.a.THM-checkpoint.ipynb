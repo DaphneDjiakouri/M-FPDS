{
 "cells": [
  {
   "cell_type": "markdown",
   "metadata": {},
   "source": [
    "# Normal 01a - THM concentration in tap water"
   ]
  },
  {
   "cell_type": "markdown",
   "metadata": {},
   "source": [
    "_Adapted from Josep Fortiana (2023-03-13) by Jordi Abante (2024-03-14)_"
   ]
  },
  {
   "cell_type": "markdown",
   "metadata": {},
   "source": [
    "# Case study: THM concentrations ($\\sigma$ known)"
   ]
  },
  {
   "cell_type": "markdown",
   "metadata": {},
   "source": [
    "This problem appears in the [Web course _Bayesian Statistics for Epidemiologists_](http://www.columbia.edu/~cjd11/charles_dimaggio/DIRE/styled-4/styled-11/code-4/), \n",
    "also in Lunn _et al._ (2012) _The BUGS book,_ **Example 3.3.3.** pp. 43-45."
   ]
  },
  {
   "cell_type": "markdown",
   "metadata": {},
   "source": [
    "# Problem description and data"
   ]
  },
  {
   "cell_type": "markdown",
   "metadata": {},
   "source": [
    "Regional water companies in the UK are required to take routine measurements of trihalomethane (THM) concentrations in tap water samples for regulatory purposes.\n",
    "\n",
    "Samples are tested throughout the year in each water supply zone and analysed using an assay with known measurement error having standard deviation\n",
    "$\\sigma = 5\\theta g/L$. \n",
    "\n",
    "We want to learn about the average concentration in a particular zone based on $n=2$  independent measurements, $x_{1}=128 \\mu g/L$ and $x_{2}=132\\mu g/L$; hence their \n",
    "mean, is $\\overline{x}=130\\mu g/L$.\n",
    "\n",
    "What is the best estimate of the mean concentration $\\mu$?\n",
    "\n",
    "Suppose the water company will be fined if observed THM levels in the water supply exceed $145\\mu g/L$. What is the probability of this event?"
   ]
  },
  {
   "cell_type": "code",
   "execution_count": 1,
   "metadata": {
    "vscode": {
     "languageId": "r"
    }
   },
   "outputs": [],
   "source": [
    "n<-2\n",
    "xbar<-130\n",
    "sigma<-5"
   ]
  },
  {
   "cell_type": "markdown",
   "metadata": {},
   "source": [
    "# Bayesian approach"
   ]
  },
  {
   "cell_type": "markdown",
   "metadata": {},
   "source": [
    "Here we assume normal data: each of the $n=2$ measurements $x_{i}$, $i=1,2$, is a value from a $\\normaldist(\\mu,\\sigma^{2})$ and they are independent.\n",
    "\n",
    "Their mean $\\xbar=\\dfrac{x_{1}+x_{2}}{2}$ is, then, a value from a $\\normaldist\\big(\\mu,\\dfrac{\\sigma^{2}}{2}\\big)$."
   ]
  },
  {
   "cell_type": "markdown",
   "metadata": {},
   "source": [
    "## Specify model"
   ]
  },
  {
   "cell_type": "markdown",
   "metadata": {},
   "source": [
    "$$\n",
    "     \\begin{array}{lcll}\n",
    "     x_{i}  &\\sim &\\normaldist(\\mu,\\sigma^{2}),\\mskip30mu 1\\leq i\\leq n,&\\mskip60mu\\text{Observed data,}\\\\[0.3cm]\n",
    "     \\mu &\\sim &\\normaldist(\\theta,\\gamma^{2}),                              &\\mskip60mu\\text{Prior.}\n",
    "          \\end{array}\n",
    "$$"
   ]
  },
  {
   "cell_type": "markdown",
   "metadata": {},
   "source": [
    "## Likelihood"
   ]
  },
  {
   "cell_type": "markdown",
   "metadata": {},
   "source": [
    "The pdf (or likelihood) of \\(x\\), for a given $\\mu$, is:\n",
    "\n",
    "$$\n",
    "    p(x\\CondTo\\mu)=\\frac{1}{\\sqrt{2\\pi}\\,\\sigma}\\,\n",
    "    \\exp\\left\\{-\\frac{1}{2}\\frac{(x-\\mu)^{2}}{\\sigma^{2}}\\right\\}\n",
    "$$"
   ]
  },
  {
   "cell_type": "markdown",
   "metadata": {},
   "source": [
    "## Prior\n",
    "\n",
    "Suppose historical data on THM levels in other zones supplied from the same water source showed that the mean THM concentration was $120\\theta g/L$ with standard\n",
    "deviation $10\\theta g/L$. This suggests a $\\normaldist(120, 10^{2})$ prior for $\\mu$.\n",
    "\n",
    "We encode this information as a normal prior distribution for $\\mu$, with mean $\\theta=120$ and standard deviation $\\gamma=10$.\n",
    "\n",
    "$$\n",
    "    \\mu\\sim\\normaldist(\\theta,\\gamma^{2}), \\mskip50mu \\theta=120, \\mskip50mu \\gamma=10.\n",
    "$$"
   ]
  },
  {
   "cell_type": "markdown",
   "metadata": {},
   "source": [
    "The prior pdf of $\\mu$, for given $\\theta$, $\\gamma^{2}$, is:\n",
    "\n",
    "$$\n",
    "    p(\\mu)=\\frac{1}{\\sqrt{2\\pi}\\,\\gamma}\\,\n",
    "    \\exp\\left\\{-\\frac{1}{2}\\frac{(\\mu-\\theta)^{2}}{\\gamma^{2}}\\right\\}\n",
    "$$"
   ]
  },
  {
   "cell_type": "markdown",
   "metadata": {},
   "source": [
    "## Conjugate pair formulas\n",
    "\n",
    "Assume $X\\sim\\normaldist(\\mu,\\sigma^{2})$, where $\\sigma$ is known (fixed, constant), and the prior distribution of $\\mu$ is also a gaussian:\n",
    "$\\mu\\sim\\normaldist(\\theta,\\gamma^{2})$.\n",
    "\n",
    "$\\mu$'s posterior distribution, given the observed $x$, is also normal, $(\\mu\\CondTo x)\\sim \\normaldist(\\theta_{x},\\tau^{2})$, with parameters:\n",
    "\n",
    "$$\n",
    "\\begin{eqnarray*}\n",
    "    \\Ee(\\mu\\CondTo x)&=&\\theta_{x}\\eqdef \\displaystyle\n",
    "    \\frac{\\gamma^{2}}{\\sigma^{2}+\\gamma^{2}}\\,x+\\frac{\\sigma^{2}}{\\sigma^{2}+\\gamma^{2}}\\,\\theta\\\\[0.6cm]\n",
    "    \\var(\\mu\\CondTo x)&=&\\tau^{2}\\eqdef\\displaystyle\n",
    "    \\frac{\\sigma^{2}\\,\\gamma^{2}}{\\sigma^{2}+\\gamma^{2}}=\\frac{1}{\\mskip10mu\\dfrac{1}{\\sigma^{2}}+\\dfrac{1}{\\gamma^{2}}\\mskip10mu}\n",
    "\\end{eqnarray*}\n",
    "$$"
   ]
  },
  {
   "cell_type": "markdown",
   "metadata": {},
   "source": [
    "Interpretation of the updated parameters:\n",
    "\n",
    "- $\\theta_{x}$ is a convex combination of $\\theta$, the prior expectation, and the observed $x$. \n",
    "\n",
    "- Relative weight is inversely proportional to the variances $=$ **Precision.**\n",
    "\n",
    "- Precision is _additive:_ $\\dfrac{1}{\\tau^{2}}=\\dfrac{1}{\\sigma^{2}}+\\dfrac{1}{\\gamma^{2}}$."
   ]
  },
  {
   "cell_type": "markdown",
   "metadata": {},
   "source": [
    "## Implicit virtual observations\n",
    "\n",
    "This prior can be interpreted as if we had observed a certain number $n_{0}$ of _virtual observations_ with the same $\\sigma$ as the current ones. \n",
    "\n",
    "This _equivalent number of implicit observations_ is computed from the equality $\\dfrac{\\sigma^{2}}{n_{0}}=\\gamma^{2}$. In our case, $n_{0}=0.25$."
   ]
  },
  {
   "cell_type": "code",
   "execution_count": 2,
   "metadata": {
    "vscode": {
     "languageId": "r"
    }
   },
   "outputs": [],
   "source": [
    "theta<-120\n",
    "gamma<-10"
   ]
  },
  {
   "cell_type": "markdown",
   "metadata": {},
   "source": [
    "## Prior predictive\n",
    "\n",
    "Since:\n",
    "\n",
    "$$\n",
    "    x\\sim\\operatorname{N}(\\mu,\\sigma^{2}), \\mskip10mu\\text{and}\\mskip10mu\n",
    "    \\mu\\sim\\operatorname{N}(\\theta,\\gamma^{2})\n",
    "$$\n",
    "\n",
    "the prior predictive distribution for each **individual** observation $x$ is $\\sim\\textrm{N}(\\theta,\\sigma^2+\\gamma^{2})$. \n",
    "\n",
    "_Should we be interested in the prior predictive distribution for the average $\\overline{x}\\sim\\textrm{N}\\big(\\mu,\\dfrac{\\sigma^{2}}{n}\\big)$, then we would have the prior predictive distribution $\\sim\\operatorname{N}\\big(\\theta,\\dfrac{\\sigma^{2}}{n}+\\gamma^{2}\\big)$._"
   ]
  },
  {
   "cell_type": "code",
   "execution_count": 3,
   "metadata": {
    "vscode": {
     "languageId": "r"
    }
   },
   "outputs": [
    {
     "data": {
      "text/html": [
       "120"
      ],
      "text/latex": [
       "120"
      ],
      "text/markdown": [
       "120"
      ],
      "text/plain": [
       "[1] 120"
      ]
     },
     "metadata": {},
     "output_type": "display_data"
    },
    {
     "data": {
      "text/html": [
       "11.1803"
      ],
      "text/latex": [
       "11.1803"
      ],
      "text/markdown": [
       "11.1803"
      ],
      "text/plain": [
       "[1] 11.1803"
      ]
     },
     "metadata": {},
     "output_type": "display_data"
    }
   ],
   "source": [
    "Theor.mean.prior.pred<-theta\n",
    "Theor.sd.prior.pred<-sqrt(sigma^2+gamma^2)\n",
    "round(Theor.mean.prior.pred,4)\n",
    "round(Theor.sd.prior.pred,4)"
   ]
  },
  {
   "cell_type": "markdown",
   "metadata": {},
   "source": [
    "### Simulate this prior predictive"
   ]
  },
  {
   "cell_type": "code",
   "execution_count": 4,
   "metadata": {
    "vscode": {
     "languageId": "r"
    }
   },
   "outputs": [],
   "source": [
    "N<-15000\n",
    "set.seed(24025)"
   ]
  },
  {
   "cell_type": "code",
   "execution_count": 5,
   "metadata": {
    "vscode": {
     "languageId": "r"
    }
   },
   "outputs": [],
   "source": [
    "mu<-rnorm(N,mean=theta,sd=gamma)          # N samples from the prior\n",
    "x1<-rnorm(N,mean=mu,sd=sigma)          # N samples from the likelihood, each with a different theta"
   ]
  },
  {
   "cell_type": "code",
   "execution_count": 6,
   "metadata": {
    "vscode": {
     "languageId": "r"
    }
   },
   "outputs": [
    {
     "data": {
      "text/html": [
       "119.97"
      ],
      "text/latex": [
       "119.97"
      ],
      "text/markdown": [
       "119.97"
      ],
      "text/plain": [
       "[1] 119.97"
      ]
     },
     "metadata": {},
     "output_type": "display_data"
    },
    {
     "data": {
      "text/html": [
       "11.1633"
      ],
      "text/latex": [
       "11.1633"
      ],
      "text/markdown": [
       "11.1633"
      ],
      "text/plain": [
       "[1] 11.1633"
      ]
     },
     "metadata": {},
     "output_type": "display_data"
    }
   ],
   "source": [
    "Sim.mean.prior.pred<-mean(x1)\n",
    "Sim.sd.prior.pred<-sd(x1)\n",
    "round(Sim.mean.prior.pred,4)\n",
    "round(Sim.sd.prior.pred,4)"
   ]
  },
  {
   "cell_type": "code",
   "execution_count": 7,
   "metadata": {
    "vscode": {
     "languageId": "r"
    }
   },
   "outputs": [
    {
     "data": {
      "image/png": "[encoded data removed]",
      "text/plain": [
       "Plot with title \"Prior predictive histogram\""
      ]
     },
     "metadata": {
      "image/png": {
       "height": 360,
       "width": 360
      }
     },
     "output_type": "display_data"
    }
   ],
   "source": [
    "x.min<-min(x1)\n",
    "x.max<-max(x1)\n",
    "options(repr.plot.width=6,repr.plot.height=6)\n",
    "hist(x1,breaks=35,freq=FALSE,col=\"LightGreen\",xlim=c(x.min,x.max),ylim=c(0,0.036),\n",
    "     xlab=\"x\",main=\"Prior predictive histogram\",cex.lab=1.5,cex.main=1.5)\n",
    "# Superimpose the theoretical density\n",
    "x<-seq(x.min,x.max,length=1000)\n",
    "lines(x,dnorm(x,mean=Theor.mean.prior.pred,sd=Theor.sd.prior.pred),lwd=3.0,col=\"DarkGreen\")"
   ]
  },
  {
   "cell_type": "markdown",
   "metadata": {},
   "source": [
    "## Posterior\n",
    "\n",
    "The posterior distribution for $\\mu$, given $\\overline{x}$, is normal, with mean $\\theta_{x}$ and sd $\\tau$. \n",
    "\n",
    "$\\theta_{x}$ is a convex combination of $\\theta$ and $\\overline{x}$.\n",
    "\n",
    "$$\n",
    "    (\\mu\\,|\\,\\overline{x})\\sim\\textrm{N}(\\theta_{x},\\tau^{2}),\n",
    "$$"
   ]
  },
  {
   "cell_type": "code",
   "execution_count": 8,
   "metadata": {
    "vscode": {
     "languageId": "r"
    }
   },
   "outputs": [
    {
     "data": {
      "text/html": [
       "128.8889"
      ],
      "text/latex": [
       "128.8889"
      ],
      "text/markdown": [
       "128.8889"
      ],
      "text/plain": [
       "[1] 128.8889"
      ]
     },
     "metadata": {},
     "output_type": "display_data"
    },
    {
     "data": {
      "text/html": [
       "11.1111"
      ],
      "text/latex": [
       "11.1111"
      ],
      "text/markdown": [
       "11.1111"
      ],
      "text/plain": [
       "[1] 11.1111"
      ]
     },
     "metadata": {},
     "output_type": "display_data"
    },
    {
     "data": {
      "text/html": [
       "3.3333"
      ],
      "text/latex": [
       "3.3333"
      ],
      "text/markdown": [
       "3.3333"
      ],
      "text/plain": [
       "[1] 3.3333"
      ]
     },
     "metadata": {},
     "output_type": "display_data"
    }
   ],
   "source": [
    "alpha<-(sigma^2/n)/((sigma^2/n)+gamma^2)\n",
    "theta.x<-alpha*theta+(1-alpha)*xbar\n",
    "tau2<-((sigma^2/n)*gamma^2)/((sigma^2/n)+gamma^2)\n",
    "tau<-sqrt(tau2)\n",
    "round(theta.x,4)\n",
    "round(tau2,4)\n",
    "round(tau,4)"
   ]
  },
  {
   "cell_type": "markdown",
   "metadata": {},
   "source": [
    "## Comparison of prior, observed, and posterior pdf's"
   ]
  },
  {
   "cell_type": "code",
   "execution_count": 9,
   "metadata": {
    "vscode": {
     "languageId": "r"
    }
   },
   "outputs": [],
   "source": [
    "bayes.normal<-function(x,theta,sigma,gamma){\n",
    "    lambda<-sigma^2/(sigma^2+gamma^2)\n",
    "    theta.x<-lambda*theta+(1-lambda)*x\n",
    "    tau2<-lambda*gamma^2\n",
    "    tau<-sqrt(tau2)\n",
    "    max.sigma<-max(sigma,gamma,tau)\n",
    "    min.theta<-min(theta,x,theta.x)\n",
    "    max.theta<-max(theta,x,theta.x)\n",
    "    min.x<-min.theta-2.0*max.sigma\n",
    "    max.x<-max.theta+2.0*max.sigma\n",
    "    u<-seq(min.x,max.x,length=1000)\n",
    "    prior<-dnorm(u,mean=theta,sd=gamma)\n",
    "    obs<-dnorm(u,mean=x,sd=sigma)\n",
    "    post<-dnorm(u,mean=theta.x,sd=tau)\n",
    "    max.y<-max(prior,obs,post)\n",
    "    plot(u,prior,type=\"l\",lwd=3.0,ylim=c(0,max.y*1.1),col=\"green\",\n",
    "        xlab=\"\",ylab=\"\",main=\"Prior, observation and posterior\",cex=3)\n",
    "    lines(u,obs,lwd=2.5,col=\"blue\")\n",
    "    lines(u,post,lwd=2.5,col=\"red\")\n",
    "    legend(\"topleft\",legend=list(\"Prior\",\"Obs\",\"Post\"),lty=\"solid\",lwd=2.5,col=c(\"green\",\"blue\",\"red\"))\n",
    "    }"
   ]
  },
  {
   "cell_type": "code",
   "execution_count": 10,
   "metadata": {
    "vscode": {
     "languageId": "r"
    }
   },
   "outputs": [
    {
     "data": {
      "image/png": "[encoded data removed]",
      "text/plain": [
       "Plot with title \"Prior, observation and posterior\""
      ]
     },
     "metadata": {
      "image/png": {
       "height": 420,
       "width": 420
      }
     },
     "output_type": "display_data"
    }
   ],
   "source": [
    "options(repr.plot.width=7,repr.plot.height=7)\n",
    "bayes.normal(130,120,5/sqrt(2),10)"
   ]
  },
  {
   "cell_type": "markdown",
   "metadata": {},
   "source": [
    "## Credible interval\n",
    "\n",
    "With the posterior distribution for $\\mu$, given $\\overline{x}$,\twe obtain the interval $(a,b)$, such that $P(a<\\mu<b)=0.95$. This interval is centered on $\\theta_{x}=128.9$ instead of on $\\overline{x}=130$:"
   ]
  },
  {
   "cell_type": "code",
   "execution_count": 11,
   "metadata": {
    "vscode": {
     "languageId": "r"
    }
   },
   "outputs": [
    {
     "data": {
      "text/html": [
       "<style>\n",
       ".list-inline {list-style: none; margin:0; padding: 0}\n",
       ".list-inline>li {display: inline-block}\n",
       ".list-inline>li:not(:last-child)::after {content: \"\\00b7\"; padding: 0 .5ex}\n",
       "</style>\n",
       "<ol class=list-inline><li>122.3557</li><li>135.4221</li></ol>\n"
      ],
      "text/latex": [
       "\\begin{enumerate*}\n",
       "\\item 122.3557\n",
       "\\item 135.4221\n",
       "\\end{enumerate*}\n"
      ],
      "text/markdown": [
       "1. 122.3557\n",
       "2. 135.4221\n",
       "\n",
       "\n"
      ],
      "text/plain": [
       "[1] 122.3557 135.4221"
      ]
     },
     "metadata": {},
     "output_type": "display_data"
    }
   ],
   "source": [
    "a<-qnorm(0.025,mean=theta.x,sd=tau)\n",
    "b<-qnorm(0.975,mean=theta.x,sd=tau)\n",
    "Credible.Int.95<-c(a,b)\n",
    "round(Credible.Int.95,4)\n",
    "#[1] 122.3557 135.4221"
   ]
  },
  {
   "cell_type": "markdown",
   "metadata": {},
   "source": [
    "## Posterior predictive distribution"
   ]
  },
  {
   "cell_type": "markdown",
   "metadata": {},
   "source": [
    "The posterior predictive distribution for a new observation $\\widetilde{x}$, given the observed $\\overline{x}$, is normal, with mean $\\theta_{x}$ and variance the sum $\\sigma^{2}+\\tau^{2}$."
   ]
  },
  {
   "cell_type": "code",
   "execution_count": 12,
   "metadata": {
    "vscode": {
     "languageId": "r"
    }
   },
   "outputs": [
    {
     "data": {
      "text/html": [
       "128.889"
      ],
      "text/latex": [
       "128.889"
      ],
      "text/markdown": [
       "128.889"
      ],
      "text/plain": [
       "[1] 128.889"
      ]
     },
     "metadata": {},
     "output_type": "display_data"
    },
    {
     "data": {
      "text/html": [
       "36.111"
      ],
      "text/latex": [
       "36.111"
      ],
      "text/markdown": [
       "36.111"
      ],
      "text/plain": [
       "[1] 36.111"
      ]
     },
     "metadata": {},
     "output_type": "display_data"
    },
    {
     "data": {
      "text/html": [
       "6.009"
      ],
      "text/latex": [
       "6.009"
      ],
      "text/markdown": [
       "6.009"
      ],
      "text/plain": [
       "[1] 6.009"
      ]
     },
     "metadata": {},
     "output_type": "display_data"
    }
   ],
   "source": [
    "Theor.m.post.pred<-theta.x\n",
    "Theor.var.post.pred<-sigma^2+tau^2\n",
    "Theor.sd.post.pred<-sqrt(Theor.var.post.pred)\n",
    "round(Theor.m.post.pred,3)\n",
    "round(Theor.var.post.pred,3)\n",
    "round(Theor.sd.post.pred,3)"
   ]
  },
  {
   "cell_type": "markdown",
   "metadata": {},
   "source": [
    "## Predicting next semester probability of fine"
   ]
  },
  {
   "cell_type": "markdown",
   "metadata": {},
   "source": [
    "This posterior predictive distribution can be used to compute the probability that the water company will be fined next semester, which will happen if next month measurement (predicted)  $\\widetilde{𝑥}$  exceeds  $x_{\\text{crit}}=145$."
   ]
  },
  {
   "cell_type": "code",
   "execution_count": 13,
   "metadata": {
    "vscode": {
     "languageId": "r"
    }
   },
   "outputs": [
    {
     "data": {
      "text/html": [
       "0.00367"
      ],
      "text/latex": [
       "0.00367"
      ],
      "text/markdown": [
       "0.00367"
      ],
      "text/plain": [
       "[1] 0.00367"
      ]
     },
     "metadata": {},
     "output_type": "display_data"
    }
   ],
   "source": [
    "p.fine<-1-pnorm(145,mean=Theor.m.post.pred,sd=Theor.sd.post.pred)\n",
    "round(p.fine,5)\n",
    "# [1] 0.003669567"
   ]
  }
 ],
 "metadata": {
  "kernelspec": {
   "display_name": "R",
   "language": "R",
   "name": "ir"
  },
  "language_info": {
   "codemirror_mode": "r",
   "file_extension": ".r",
   "mimetype": "text/x-r-source",
   "name": "R",
   "pygments_lexer": "r",
   "version": "4.2.2"
  }
 },
 "nbformat": 4,
 "nbformat_minor": 4
}
